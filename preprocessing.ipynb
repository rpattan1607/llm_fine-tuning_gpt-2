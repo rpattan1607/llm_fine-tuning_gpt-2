{
 "cells": [
  {
   "cell_type": "code",
   "execution_count": 1,
   "metadata": {},
   "outputs": [
    {
     "name": "stdout",
     "output_type": "stream",
     "text": [
      "20479\n",
      "I HAD always thought Jack Gisburn rather a cheap genius--though a good fellow enough--so it was no \n"
     ]
    }
   ],
   "source": [
    "with open(\"./data/the-verdict.txt\", encoding='utf-8') as f:\n",
    "    raw_text = f.read()\n",
    "print(len(raw_text))\n",
    "print(raw_text[:99])"
   ]
  },
  {
   "cell_type": "code",
   "execution_count": 2,
   "metadata": {},
   "outputs": [
    {
     "name": "stdout",
     "output_type": "stream",
     "text": [
      "4690\n"
     ]
    }
   ],
   "source": [
    "import re\n",
    "preprocessed = re.split(r'([,.:;?_!\"()\\']|--|\\s)', raw_text) \n",
    "preprocessed = [item.strip() for item in preprocessed if item.strip()] \n",
    "print(len(preprocessed))"
   ]
  },
  {
   "cell_type": "code",
   "execution_count": 3,
   "metadata": {},
   "outputs": [
    {
     "name": "stdout",
     "output_type": "stream",
     "text": [
      "1130\n"
     ]
    }
   ],
   "source": [
    "all_words = sorted(set(preprocessed)) \n",
    "vocab_size = len(all_words) \n",
    "print(vocab_size)"
   ]
  },
  {
   "cell_type": "code",
   "execution_count": 4,
   "metadata": {},
   "outputs": [
    {
     "name": "stdout",
     "output_type": "stream",
     "text": [
      "('!', 0)\n",
      "('\"', 1)\n",
      "(\"'\", 2)\n",
      "('(', 3)\n",
      "(')', 4)\n",
      "(',', 5)\n",
      "('--', 6)\n",
      "('.', 7)\n",
      "(':', 8)\n",
      "(';', 9)\n",
      "('?', 10)\n",
      "('A', 11)\n",
      "('Ah', 12)\n",
      "('Among', 13)\n",
      "('And', 14)\n",
      "('Are', 15)\n",
      "('Arrt', 16)\n",
      "('As', 17)\n",
      "('At', 18)\n",
      "('Be', 19)\n",
      "('Begin', 20)\n",
      "('Burlington', 21)\n",
      "('But', 22)\n",
      "('By', 23)\n",
      "('Carlo', 24)\n",
      "('Chicago', 25)\n",
      "('Claude', 26)\n",
      "('Come', 27)\n",
      "('Croft', 28)\n",
      "('Destroyed', 29)\n",
      "('Devonshire', 30)\n",
      "('Don', 31)\n",
      "('Dubarry', 32)\n",
      "('Emperors', 33)\n",
      "('Florence', 34)\n",
      "('For', 35)\n",
      "('Gallery', 36)\n",
      "('Gideon', 37)\n",
      "('Gisburn', 38)\n",
      "('Gisburns', 39)\n",
      "('Grafton', 40)\n",
      "('Greek', 41)\n",
      "('Grindle', 42)\n",
      "('Grindles', 43)\n",
      "('HAD', 44)\n",
      "('Had', 45)\n",
      "('Hang', 46)\n",
      "('Has', 47)\n",
      "('He', 48)\n",
      "('Her', 49)\n",
      "('Hermia', 50)\n"
     ]
    }
   ],
   "source": [
    "# Creating Vocabulary\n",
    "vocab = {token:integer for integer,token in enumerate(all_words)} \n",
    "for i, item in enumerate(vocab.items()): \n",
    "    print(item) \n",
    "    if i >= 50: \n",
    "        break"
   ]
  },
  {
   "cell_type": "code",
   "execution_count": 5,
   "metadata": {},
   "outputs": [],
   "source": [
    "class SimpleTokenizerV1: \n",
    "    def __init__(self, vocab): \n",
    "        self.str_to_int = vocab \n",
    "        self.int_to_str = {i:s for s,i in vocab.items()}  \n",
    "    \n",
    "    def encode(self, text): \n",
    "        preprocessed = re.split(r'([,.?_!\"()\\']|--|\\s)', text) \n",
    "        preprocessed = [ item.strip() for item in preprocessed if item.strip() ]  \n",
    "        ids = [self.str_to_int[s] for s in preprocessed] \n",
    "        return ids  \n",
    "    \n",
    "    def decode(self, ids): \n",
    "        text = \" \".join([self.int_to_str[i] for i in ids])  \n",
    "        text = re.sub(r'\\s+([,.?!\"()\\'])', r'\\1', text) \n",
    "        return text"
   ]
  },
  {
   "cell_type": "code",
   "execution_count": 6,
   "metadata": {},
   "outputs": [
    {
     "name": "stdout",
     "output_type": "stream",
     "text": [
      "1132\n"
     ]
    }
   ],
   "source": [
    "all_tokens = sorted(list(set(preprocessed))) \n",
    "all_tokens.extend([\"<|endoftext|>\", \"<|unk|>\"]) \n",
    "vocab = {token:integer for integer,token in enumerate(all_tokens)}  \n",
    "print(len(vocab.items()))"
   ]
  },
  {
   "cell_type": "code",
   "execution_count": 7,
   "metadata": {},
   "outputs": [
    {
     "name": "stdout",
     "output_type": "stream",
     "text": [
      "355\n"
     ]
    }
   ],
   "source": [
    "print(vocab['do'])"
   ]
  },
  {
   "cell_type": "code",
   "execution_count": 8,
   "metadata": {},
   "outputs": [],
   "source": [
    "class SimpleTokenizerV2: \n",
    "    def __init__(self, vocab): \n",
    "        self.str_to_int = vocab \n",
    "        self.int_to_str = {i:s for s,i in vocab.items()}  \n",
    "    \n",
    "    def encode(self, text): \n",
    "        preprocessed = re.split(r'([,.?_!\"()\\']|--|\\s)', text) \n",
    "        preprocessed = [ item.strip() for item in preprocessed if item.strip() ]\n",
    "        preprocessed = [item if item in self.str_to_int else \"<|unk|>\" for item in preprocessed]\n",
    "        ids = [self.str_to_int[s] for s in preprocessed] \n",
    "        return ids  \n",
    "    \n",
    "    def decode(self, ids): \n",
    "        text = \" \".join([self.int_to_str[i] for i in ids])  \n",
    "        text = re.sub(r'\\s+([,.?!\"()\\'])', r'\\1', text) \n",
    "        return text"
   ]
  },
  {
   "cell_type": "code",
   "execution_count": 9,
   "metadata": {},
   "outputs": [
    {
     "name": "stdout",
     "output_type": "stream",
     "text": [
      "Hello,do you like tea? <|endoftext|> In the sunlit terraces of the palace.\n"
     ]
    }
   ],
   "source": [
    "text1 = \"Hello,do you like tea?\" \n",
    "text2 = \"In the sunlit terraces of the palace.\" \n",
    "text = \" <|endoftext|> \".join((text1, text2)) \n",
    "print(text)"
   ]
  },
  {
   "cell_type": "code",
   "execution_count": 10,
   "metadata": {},
   "outputs": [
    {
     "name": "stdout",
     "output_type": "stream",
     "text": [
      "[1131, 5, 355, 1126, 628, 975, 10, 1130, 55, 988, 956, 984, 722, 988, 1131, 7]\n"
     ]
    }
   ],
   "source": [
    "tokenizer = SimpleTokenizerV2(vocab) \n",
    "print(tokenizer.encode(text))"
   ]
  },
  {
   "cell_type": "code",
   "execution_count": 11,
   "metadata": {},
   "outputs": [
    {
     "name": "stdout",
     "output_type": "stream",
     "text": [
      "<|unk|>, do you like tea? <|endoftext|> In the sunlit terraces of the <|unk|>.\n"
     ]
    }
   ],
   "source": [
    "print(tokenizer.decode(tokenizer.encode(text)))"
   ]
  },
  {
   "cell_type": "code",
   "execution_count": 12,
   "metadata": {},
   "outputs": [
    {
     "data": {
      "text/plain": [
       "'0.8.0'"
      ]
     },
     "execution_count": 12,
     "metadata": {},
     "output_type": "execute_result"
    }
   ],
   "source": [
    "import tiktoken\n",
    "tiktoken.__version__"
   ]
  },
  {
   "cell_type": "code",
   "execution_count": 13,
   "metadata": {},
   "outputs": [],
   "source": [
    "sample_text = \"Akwirw ier\"\n",
    "tokenizer = tiktoken.get_encoding(\"gpt2\")"
   ]
  },
  {
   "cell_type": "code",
   "execution_count": 14,
   "metadata": {},
   "outputs": [
    {
     "data": {
      "text/plain": [
       "[33901, 86, 343, 86, 220, 959]"
      ]
     },
     "execution_count": 14,
     "metadata": {},
     "output_type": "execute_result"
    }
   ],
   "source": [
    "tokenizer.encode(sample_text)"
   ]
  },
  {
   "cell_type": "code",
   "execution_count": 15,
   "metadata": {},
   "outputs": [
    {
     "data": {
      "text/plain": [
       "'Akwirw ier'"
      ]
     },
     "execution_count": 15,
     "metadata": {},
     "output_type": "execute_result"
    }
   ],
   "source": [
    "tokenizer.decode(tokenizer.encode(sample_text))"
   ]
  },
  {
   "cell_type": "code",
   "execution_count": 16,
   "metadata": {},
   "outputs": [
    {
     "data": {
      "text/plain": [
       "'ir'"
      ]
     },
     "execution_count": 16,
     "metadata": {},
     "output_type": "execute_result"
    }
   ],
   "source": [
    "tokenizer.decode([343])"
   ]
  },
  {
   "cell_type": "code",
   "execution_count": 17,
   "metadata": {},
   "outputs": [],
   "source": [
    "import torch \n",
    "from torch.utils.data import DataLoader, Dataset\n",
    "\n",
    "class GPTDatasetV1(Dataset): \n",
    "    def __init__(self,txt, tokenizer, max_length, stride):\n",
    "        super().__init__()\n",
    "        self.input_ids = []\n",
    "        self.target_ids = []\n",
    "\n",
    "        token_ids = tokenizer.encode(txt)\n",
    "\n",
    "        for i in range(0, len(token_ids) - max_length, stride): \n",
    "            input_chunk = token_ids[i:i + max_length] \n",
    "            target_chunk = token_ids[i + 1: i + max_length + 1] \n",
    "            self.input_ids.append(torch.tensor(input_chunk)) \n",
    "            self.target_ids.append(torch.tensor(target_chunk))\n",
    "    \n",
    "    def __len__(self):\n",
    "        return len(self.input_ids)\n",
    "    \n",
    "    def __getitem__(self, index):\n",
    "        return self.input_ids[index], self.target_ids[index]"
   ]
  },
  {
   "cell_type": "code",
   "execution_count": 18,
   "metadata": {},
   "outputs": [],
   "source": [
    "def create_dataloader_v1(txt, batch_size=4, max_length=256, stride=128, shuffle=True, drop_last=True, num_workers=0): \n",
    "    tokenizer = tiktoken.get_encoding(\"gpt2\") \n",
    "    dataset = GPTDatasetV1(txt, tokenizer, max_length, stride) \n",
    "    dataloader = DataLoader( dataset, batch_size=batch_size, shuffle=shuffle, drop_last=drop_last, num_workers=num_workers )  \n",
    "    return dataloader"
   ]
  },
  {
   "cell_type": "code",
   "execution_count": 19,
   "metadata": {},
   "outputs": [],
   "source": [
    "with open(\"./data/the-verdict.txt\", encoding='utf-8') as f:\n",
    "    raw_text = f.read()\n",
    "\n",
    "dataloader = create_dataloader_v1(raw_text, batch_size=1, max_length=4, stride=1, shuffle=False)\n",
    "data_iter = iter(dataloader)\n",
    "first_batch = next(data_iter)"
   ]
  },
  {
   "cell_type": "code",
   "execution_count": 20,
   "metadata": {},
   "outputs": [
    {
     "data": {
      "text/plain": [
       "[tensor([[  40,  367, 2885, 1464]]), tensor([[ 367, 2885, 1464, 1807]])]"
      ]
     },
     "execution_count": 20,
     "metadata": {},
     "output_type": "execute_result"
    }
   ],
   "source": [
    "first_batch"
   ]
  },
  {
   "cell_type": "code",
   "execution_count": 21,
   "metadata": {},
   "outputs": [
    {
     "data": {
      "text/plain": [
       "[tensor([[ 367, 2885, 1464, 1807]]), tensor([[2885, 1464, 1807, 3619]])]"
      ]
     },
     "execution_count": 21,
     "metadata": {},
     "output_type": "execute_result"
    }
   ],
   "source": [
    "second_batch = next(data_iter)\n",
    "second_batch"
   ]
  },
  {
   "cell_type": "code",
   "execution_count": 22,
   "metadata": {},
   "outputs": [
    {
     "name": "stdout",
     "output_type": "stream",
     "text": [
      "[tensor([[  40,  367, 2885, 1464, 1807, 3619,  402,  271]]), tensor([[  367,  2885,  1464,  1807,  3619,   402,   271, 10899]])] [tensor([[ 2885,  1464,  1807,  3619,   402,   271, 10899,  2138]]), tensor([[ 1464,  1807,  3619,   402,   271, 10899,  2138,   257]])]\n"
     ]
    }
   ],
   "source": [
    "dataloader = create_dataloader_v1(raw_text, batch_size=1, max_length=8, stride=2, shuffle=False)\n",
    "data_iter = iter(dataloader)\n",
    "first_batch = next(data_iter)\n",
    "second_batch = next(data_iter)\n",
    "\n",
    "print(first_batch, second_batch)"
   ]
  },
  {
   "cell_type": "code",
   "execution_count": 23,
   "metadata": {},
   "outputs": [
    {
     "name": "stdout",
     "output_type": "stream",
     "text": [
      "torch.Size([8, 4, 256])\n",
      "torch.Size([4, 256])\n",
      "torch.Size([8, 4, 256])\n"
     ]
    }
   ],
   "source": [
    "# Coding Final DataLoader and Embedding Layer\n",
    "max_length = 4 \n",
    "dataloader = create_dataloader_v1( raw_text, batch_size=8, max_length=max_length, stride=max_length, shuffle=False)\n",
    "\n",
    "data_iter = iter(dataloader) \n",
    "inputs, targets = next(data_iter)\n",
    "\n",
    "vocab_size = 50257 \n",
    "output_dim = 256 \n",
    "token_embedding_layer = torch.nn.Embedding(vocab_size, output_dim)\n",
    "token_embeddings = token_embedding_layer(inputs)\n",
    "\n",
    "print(token_embeddings.shape)\n",
    "\n",
    "context_length = max_length \n",
    "pos_embedding_layer = torch.nn.Embedding(context_length, output_dim) \n",
    "pos_embeddings = pos_embedding_layer(torch.arange(context_length)) \n",
    "print(pos_embeddings.shape)\n",
    "\n",
    "input_embeddings = token_embeddings + pos_embeddings \n",
    "print(input_embeddings.shape)\n"
   ]
  },
  {
   "cell_type": "code",
   "execution_count": 24,
   "metadata": {},
   "outputs": [],
   "source": [
    "# Casual Attention\n",
    "import torch.nn as nn\n",
    "class CausalAttention(nn.Module): \n",
    "    def __init__(self, d_in, d_out, context_length, dropout, qkv_bias=False): \n",
    "        super().__init__() \n",
    "        self.d_out = d_out \n",
    "        self.W_query = nn.Linear(d_in, d_out, bias=qkv_bias) \n",
    "        self.W_key = nn.Linear(d_in, d_out, bias=qkv_bias) \n",
    "        self.W_value = nn.Linear(d_in, d_out, bias=qkv_bias) \n",
    "        self.dropout = nn.Dropout(dropout) \n",
    "        self.register_buffer( 'mask', torch.triu(torch.ones(context_length, context_length), diagonal=1) )  \n",
    "    def forward(self, x): \n",
    "        b, num_tokens, d_in = x.shape \n",
    "        keys = self.W_key(x) \n",
    "        queries = self.W_query(x) \n",
    "        values = self.W_value(x)  \n",
    "        attn_scores = queries @ keys.transpose(1, 2) \n",
    "        attn_scores.masked_fill_( self.mask.bool()[:num_tokens, :num_tokens], -torch.inf) \n",
    "        attn_weights = torch.softmax( attn_scores / keys.shape[-1]**0.5, dim=-1 )  \n",
    "        attn_weights = self.dropout(attn_weights)  \n",
    "        context_vec = attn_weights @ values \n",
    "        return context_vec"
   ]
  },
  {
   "cell_type": "code",
   "execution_count": 25,
   "metadata": {},
   "outputs": [
    {
     "name": "stdout",
     "output_type": "stream",
     "text": [
      "context_vecs.shape: torch.Size([2, 8, 2])\n"
     ]
    }
   ],
   "source": [
    "d_in = 4\n",
    "d_out = 2\n",
    "inputs, targets = next(data_iter)\n",
    "batch = torch.stack((inputs, inputs), dim=0)\n",
    "batch = batch.to(torch.float32)\n",
    "#print(batch.shape)\n",
    "torch.manual_seed(123) \n",
    "context_length = batch.shape[1] \n",
    "ca = CausalAttention(d_in, d_out, context_length, 0.0) \n",
    "context_vecs = ca(batch) \n",
    "print(\"context_vecs.shape:\", context_vecs.shape)"
   ]
  },
  {
   "cell_type": "code",
   "execution_count": 26,
   "metadata": {},
   "outputs": [],
   "source": [
    "# Multihead Attention\n",
    "\n",
    "class MultiHeadAttention(nn.Module): \n",
    "    def __init__(self, d_in, d_out, context_length, dropout, num_heads, qkv_bias=False): \n",
    "        super().__init__() \n",
    "        assert (d_out % num_heads == 0),\"d_out must be divisible by num_heads\"  \n",
    "        self.d_out = d_out \n",
    "        self.num_heads = num_heads \n",
    "        self.head_dim = d_out // num_heads \n",
    "        self.W_query = nn.Linear(d_in, d_out, bias=qkv_bias) \n",
    "        self.W_key = nn.Linear(d_in, d_out, bias=qkv_bias) \n",
    "        self.W_value = nn.Linear(d_in, d_out, bias=qkv_bias) \n",
    "        self.out_proj = nn.Linear(d_out, d_out) \n",
    "        self.dropout = nn.Dropout(dropout) \n",
    "        self.register_buffer( \"mask\", torch.triu(torch.ones(context_length, context_length), diagonal=1) )  \n",
    "    def forward(self, x): \n",
    "        b, num_tokens, d_in = x.shape \n",
    "        keys = self.W_key(x) \n",
    "        queries = self.W_query(x) \n",
    "        values = self.W_value(x)  \n",
    "        keys = keys.view(b, num_tokens, self.num_heads, self.head_dim) \n",
    "        values = values.view(b, num_tokens, self.num_heads, self.head_dim) \n",
    "        queries = queries.view( b, num_tokens, self.num_heads, self.head_dim )  \n",
    "        keys = keys.transpose(1, 2) \n",
    "        queries = queries.transpose(1, 2) \n",
    "        values = values.transpose(1, 2)  \n",
    "        attn_scores = queries @ keys.transpose(2, 3) \n",
    "        mask_bool = self.mask.bool()[:num_tokens, :num_tokens]  \n",
    "        attn_scores.masked_fill_(mask_bool, -torch.inf)  \n",
    "        attn_weights = torch.softmax( attn_scores / keys.shape[-1]**0.5, dim=-1) \n",
    "        attn_weights = self.dropout(attn_weights)  \n",
    "        context_vec = (attn_weights @ values).transpose(1, 2)  \n",
    "        context_vec = context_vec.contiguous().view( b, num_tokens, self.d_out )  \n",
    "        context_vec = self.out_proj(context_vec) \n",
    "        return context_vec"
   ]
  },
  {
   "cell_type": "code",
   "execution_count": 27,
   "metadata": {},
   "outputs": [
    {
     "data": {
      "text/plain": [
       "torch.Size([2, 8, 4])"
      ]
     },
     "execution_count": 27,
     "metadata": {},
     "output_type": "execute_result"
    }
   ],
   "source": [
    "batch.shape"
   ]
  },
  {
   "cell_type": "code",
   "execution_count": 28,
   "metadata": {},
   "outputs": [
    {
     "name": "stdout",
     "output_type": "stream",
     "text": [
      "tensor([[[  462.0290,   762.9630],\n",
      "         [-1123.9601,  -801.5990],\n",
      "         [ -772.2999,  -312.3695],\n",
      "         [ -884.3900,  -565.2656],\n",
      "         [ 5737.0591,  9067.5664],\n",
      "         [ 1557.8021,  4944.7734],\n",
      "         [  894.6220,  4290.5532],\n",
      "         [ 9075.3066, 14684.4844]],\n",
      "\n",
      "        [[  462.0290,   762.9630],\n",
      "         [-1123.9601,  -801.5990],\n",
      "         [ -772.2999,  -312.3695],\n",
      "         [ -884.3900,  -565.2656],\n",
      "         [ 5737.0591,  9067.5664],\n",
      "         [ 1557.8021,  4944.7734],\n",
      "         [  894.6220,  4290.5532],\n",
      "         [ 9075.3066, 14684.4844]]], grad_fn=<ViewBackward0>)\n",
      "context_vecs.shape: torch.Size([2, 8, 2])\n"
     ]
    }
   ],
   "source": [
    "torch.manual_seed(123) \n",
    "batch_size, context_length, d_in = batch.shape \n",
    "d_out = 2\n",
    "mha = MultiHeadAttention(d_in, d_out, context_length, 0.0, num_heads=2) \n",
    "context_vecs = mha(batch) \n",
    "print(context_vecs) \n",
    "print(\"context_vecs.shape:\", context_vecs.shape)"
   ]
  },
  {
   "cell_type": "code",
   "execution_count": 29,
   "metadata": {},
   "outputs": [],
   "source": [
    "GPT_CONFIG_124M = { \"vocab_size\": 50257, # Vocabulary size \n",
    "                   \"context_length\": 1024, # Context length \n",
    "                   \"emb_dim\": 768, # Embedding dimension \n",
    "                   \"n_heads\": 12, # Number of attention heads \n",
    "                   \"n_layers\": 12, # Number of layers \n",
    "                   \"drop_rate\": 0.1, # Dropout rate \n",
    "                   \"qkv_bias\": False, # Query-Key-Value bias\n",
    "                   }"
   ]
  },
  {
   "cell_type": "code",
   "execution_count": 30,
   "metadata": {},
   "outputs": [],
   "source": [
    "class LayerNorm(nn.Module):\n",
    "    def __init__(self, emb_dim):\n",
    "        super().__init__()\n",
    "        self.eps = 1e-5\n",
    "        self.scale = nn.Parameter(torch.ones(emb_dim))\n",
    "        self.shift = nn.Parameter(torch.zeros(emb_dim))\n",
    "    def forward(self,x):\n",
    "        mean = x.mean(dim=-1, keepdim=True) \n",
    "        var = x.var(dim=-1, keepdim=True, unbiased=False) \n",
    "        norm_x = (x - mean) / torch.sqrt(var + self.eps) \n",
    "        return self.scale * norm_x + self.shift"
   ]
  },
  {
   "cell_type": "code",
   "execution_count": 31,
   "metadata": {},
   "outputs": [],
   "source": [
    "class GELU(nn.Module): \n",
    "    def __init__(self): \n",
    "        super().__init__()  \n",
    "    def forward(self, x): \n",
    "        return 0.5 * x * (1 + torch.tanh( torch.sqrt(torch.tensor(2.0 / torch.pi)) * (x + 0.044715 * torch.pow(x, 3))))\n",
    "\n",
    "class FeedForward(nn.Module): \n",
    "    def __init__(self, cfg): \n",
    "        super().__init__() \n",
    "        self.layers = nn.Sequential( nn.Linear(cfg[\"emb_dim\"], 4 * cfg[\"emb_dim\"]), \n",
    "                                    GELU(), \n",
    "                                    nn.Linear(4 * cfg[\"emb_dim\"], cfg[\"emb_dim\"]), )  \n",
    "    def forward(self, x): \n",
    "        return self.layers(x)"
   ]
  },
  {
   "cell_type": "code",
   "execution_count": 32,
   "metadata": {},
   "outputs": [],
   "source": [
    "class TransformerBlock(nn.Module):\n",
    "    def __init__(self,config):\n",
    "        super().__init__()\n",
    "        self.att = MultiHeadAttention(\n",
    "            d_in=config[\"emb_dim\"],\n",
    "            d_out=config[\"emb_dim\"],\n",
    "            context_length=config['context_length'],\n",
    "            dropout=config[\"drop_rate\"], \n",
    "            num_heads=config[\"n_heads\"],\n",
    "            qkv_bias=config[\"qkv_bias\"]\n",
    "        )\n",
    "        self.feed_forward = FeedForward(config)\n",
    "        self.norm1 = LayerNorm(config[\"emb_dim\"])\n",
    "        self.norm2 = LayerNorm(config[\"emb_dim\"])\n",
    "        self.drop_shortcut = nn.Dropout(config[\"drop_rate\"])\n",
    "    def forward(self,x):\n",
    "        shortcut = x \n",
    "        x = self.norm1(x) \n",
    "        x = self.att(x) \n",
    "        x = self.drop_shortcut(x) \n",
    "        x = x + shortcut  \n",
    "        shortcut = x \n",
    "        x = self.norm2(x) \n",
    "        x = self.feed_forward(x) \n",
    "        x = self.drop_shortcut(x) \n",
    "        x = x + shortcut \n",
    "        return x\n",
    "\n"
   ]
  },
  {
   "cell_type": "code",
   "execution_count": 33,
   "metadata": {},
   "outputs": [],
   "source": [
    "class GPTModel(nn.Module):\n",
    "    def __init__(self, config):\n",
    "        super().__init__()\n",
    "        self.token_embd = nn.Embedding(config['vocab_size'], config['emb_dim'])\n",
    "        self.pos_embd = nn.Embedding(config['context_length'], config['emb_dim'])\n",
    "        self.drop_embd = nn.Dropout(config['drop_rate'])\n",
    "        self.trf_blocks = nn.Sequential(*[TransformerBlock(config) for _ in range(config['n_layers'])])\n",
    "        self.final_norm = LayerNorm(config[\"emb_dim\"])\n",
    "        self.out_head = nn.Linear( config[\"emb_dim\"], config[\"vocab_size\"], bias=False )\n",
    "    def forward(self,inp):\n",
    "        batch_size, seq_len = inp.shape\n",
    "        tok_embeds = self.token_embd(inp)\n",
    "        pos_embeds = self.pos_embd( torch.arange(seq_len, device= inp.device) )\n",
    "        x = tok_embeds + pos_embeds\n",
    "        x = self.drop_embd(x)\n",
    "        x = self.trf_blocks(x)\n",
    "        x = self.final_norm(x)\n",
    "        x = self.out_head(x)\n",
    "        return x"
   ]
  },
  {
   "cell_type": "code",
   "execution_count": 34,
   "metadata": {},
   "outputs": [
    {
     "name": "stdout",
     "output_type": "stream",
     "text": [
      "tensor([[6109, 3626, 6100,  345],\n",
      "        [6109, 1110, 6622,  257]])\n"
     ]
    }
   ],
   "source": [
    "import tiktoken  \n",
    "tokenizer = tiktoken.get_encoding(\"gpt2\") \n",
    "batch = [] \n",
    "txt1 = \"Every effort moves you\" \n",
    "txt2 = \"Every day holds a\"  \n",
    "batch.append(torch.tensor(tokenizer.encode(txt1))) \n",
    "batch.append(torch.tensor(tokenizer.encode(txt2))) \n",
    "batch = torch.stack(batch, dim=0) \n",
    "print(batch)"
   ]
  },
  {
   "cell_type": "code",
   "execution_count": 35,
   "metadata": {},
   "outputs": [
    {
     "name": "stdout",
     "output_type": "stream",
     "text": [
      "Input batch:\n",
      " tensor([[6109, 3626, 6100,  345],\n",
      "        [6109, 1110, 6622,  257]])\n",
      "\n",
      "Output shape: torch.Size([2, 4, 50257])\n",
      "tensor([[[ 0.1381,  0.0077, -0.1963,  ..., -0.0222, -0.1060,  0.1717],\n",
      "         [ 0.3865, -0.8408, -0.6564,  ..., -0.5163,  0.2369, -0.3357],\n",
      "         [ 0.6989, -0.1829, -0.1631,  ...,  0.1472, -0.6504, -0.0056],\n",
      "         [-0.4290,  0.1669, -0.1258,  ...,  1.1579,  0.5303, -0.5549]],\n",
      "\n",
      "        [[ 0.1094, -0.2894, -0.1467,  ..., -0.0557,  0.2911, -0.2824],\n",
      "         [ 0.0882, -0.3552, -0.3527,  ...,  1.2930,  0.0053,  0.1898],\n",
      "         [ 0.6091,  0.4702, -0.4094,  ...,  0.7688,  0.3787, -0.1974],\n",
      "         [-0.0612, -0.0737,  0.4751,  ...,  1.2463, -0.3834,  0.0609]]],\n",
      "       grad_fn=<UnsafeViewBackward0>)\n"
     ]
    }
   ],
   "source": [
    "torch.manual_seed(123) \n",
    "model = GPTModel(GPT_CONFIG_124M)  \n",
    "out = model(batch) \n",
    "print(\"Input batch:\\n\", batch) \n",
    "print(\"\\nOutput shape:\", out.shape) \n",
    "print(out)"
   ]
  },
  {
   "cell_type": "code",
   "execution_count": 36,
   "metadata": {},
   "outputs": [
    {
     "name": "stdout",
     "output_type": "stream",
     "text": [
      "Total number of parameters: 163,009,536\n"
     ]
    }
   ],
   "source": [
    "total_params = sum(p.numel() for p in model.parameters()) \n",
    "print(f\"Total number of parameters: {total_params:,}\")"
   ]
  },
  {
   "cell_type": "code",
   "execution_count": 37,
   "metadata": {},
   "outputs": [
    {
     "name": "stdout",
     "output_type": "stream",
     "text": [
      "Number of trainable parameters considering weight tying: 124,412,160\n"
     ]
    }
   ],
   "source": [
    "total_params_gpt2 = ( total_params - sum(p.numel() for p in model.out_head.parameters()) )  \n",
    "print(f\"Number of trainable parameters \" f\"considering weight tying: {total_params_gpt2:,}\" )"
   ]
  },
  {
   "cell_type": "code",
   "execution_count": 38,
   "metadata": {},
   "outputs": [
    {
     "name": "stdout",
     "output_type": "stream",
     "text": [
      "Number of trainable parameters in multihead is 85026816 \n"
     ]
    }
   ],
   "source": [
    "total_multihead_params = sum([p.numel() for p in model.trf_blocks.parameters()])\n",
    "print(f\"Number of trainable parameters in multihead is {total_multihead_params} \")\n"
   ]
  },
  {
   "cell_type": "code",
   "execution_count": 39,
   "metadata": {},
   "outputs": [
    {
     "name": "stdout",
     "output_type": "stream",
     "text": [
      "feed_forward\n",
      "feed_forward.layers\n",
      "feed_forward.layers.0\n",
      "feed_forward.layers.1\n",
      "feed_forward.layers.2\n",
      "Total number of Feed Forward Parameters are 14167296\n"
     ]
    }
   ],
   "source": [
    "trns = TransformerBlock(config=GPT_CONFIG_124M)\n",
    "params = 0\n",
    "for x,y in trns.named_modules():\n",
    "    if 'feed_forward' in x:\n",
    "         print(x)\n",
    "         for p in y.parameters():\n",
    "              params = params + p.numel()\n",
    "\n",
    "print(f\"Total number of Feed Forward Parameters are {params}\")"
   ]
  },
  {
   "cell_type": "code",
   "execution_count": 40,
   "metadata": {},
   "outputs": [],
   "source": [
    "def generate_text_simple(model, idx, max_new_tokens, context_size): \n",
    "    for _ in range(max_new_tokens): \n",
    "        idx_cond = idx[:, -context_size:] \n",
    "        with torch.no_grad(): \n",
    "            logits = model(idx_cond)  \n",
    "            logits = logits[:, -1, :] \n",
    "            probas = torch.softmax(logits, dim=-1) \n",
    "            idx_next = torch.argmax(probas, dim=-1, keepdim=True) \n",
    "            idx = torch.cat((idx, idx_next), dim=1)  \n",
    "            return idx"
   ]
  },
  {
   "cell_type": "code",
   "execution_count": 41,
   "metadata": {},
   "outputs": [
    {
     "data": {
      "text/plain": [
       "GPTModel(\n",
       "  (token_embd): Embedding(50257, 768)\n",
       "  (pos_embd): Embedding(256, 768)\n",
       "  (drop_embd): Dropout(p=0.1, inplace=False)\n",
       "  (trf_blocks): Sequential(\n",
       "    (0): TransformerBlock(\n",
       "      (att): MultiHeadAttention(\n",
       "        (W_query): Linear(in_features=768, out_features=768, bias=False)\n",
       "        (W_key): Linear(in_features=768, out_features=768, bias=False)\n",
       "        (W_value): Linear(in_features=768, out_features=768, bias=False)\n",
       "        (out_proj): Linear(in_features=768, out_features=768, bias=True)\n",
       "        (dropout): Dropout(p=0.1, inplace=False)\n",
       "      )\n",
       "      (feed_forward): FeedForward(\n",
       "        (layers): Sequential(\n",
       "          (0): Linear(in_features=768, out_features=3072, bias=True)\n",
       "          (1): GELU()\n",
       "          (2): Linear(in_features=3072, out_features=768, bias=True)\n",
       "        )\n",
       "      )\n",
       "      (norm1): LayerNorm()\n",
       "      (norm2): LayerNorm()\n",
       "      (drop_shortcut): Dropout(p=0.1, inplace=False)\n",
       "    )\n",
       "    (1): TransformerBlock(\n",
       "      (att): MultiHeadAttention(\n",
       "        (W_query): Linear(in_features=768, out_features=768, bias=False)\n",
       "        (W_key): Linear(in_features=768, out_features=768, bias=False)\n",
       "        (W_value): Linear(in_features=768, out_features=768, bias=False)\n",
       "        (out_proj): Linear(in_features=768, out_features=768, bias=True)\n",
       "        (dropout): Dropout(p=0.1, inplace=False)\n",
       "      )\n",
       "      (feed_forward): FeedForward(\n",
       "        (layers): Sequential(\n",
       "          (0): Linear(in_features=768, out_features=3072, bias=True)\n",
       "          (1): GELU()\n",
       "          (2): Linear(in_features=3072, out_features=768, bias=True)\n",
       "        )\n",
       "      )\n",
       "      (norm1): LayerNorm()\n",
       "      (norm2): LayerNorm()\n",
       "      (drop_shortcut): Dropout(p=0.1, inplace=False)\n",
       "    )\n",
       "    (2): TransformerBlock(\n",
       "      (att): MultiHeadAttention(\n",
       "        (W_query): Linear(in_features=768, out_features=768, bias=False)\n",
       "        (W_key): Linear(in_features=768, out_features=768, bias=False)\n",
       "        (W_value): Linear(in_features=768, out_features=768, bias=False)\n",
       "        (out_proj): Linear(in_features=768, out_features=768, bias=True)\n",
       "        (dropout): Dropout(p=0.1, inplace=False)\n",
       "      )\n",
       "      (feed_forward): FeedForward(\n",
       "        (layers): Sequential(\n",
       "          (0): Linear(in_features=768, out_features=3072, bias=True)\n",
       "          (1): GELU()\n",
       "          (2): Linear(in_features=3072, out_features=768, bias=True)\n",
       "        )\n",
       "      )\n",
       "      (norm1): LayerNorm()\n",
       "      (norm2): LayerNorm()\n",
       "      (drop_shortcut): Dropout(p=0.1, inplace=False)\n",
       "    )\n",
       "    (3): TransformerBlock(\n",
       "      (att): MultiHeadAttention(\n",
       "        (W_query): Linear(in_features=768, out_features=768, bias=False)\n",
       "        (W_key): Linear(in_features=768, out_features=768, bias=False)\n",
       "        (W_value): Linear(in_features=768, out_features=768, bias=False)\n",
       "        (out_proj): Linear(in_features=768, out_features=768, bias=True)\n",
       "        (dropout): Dropout(p=0.1, inplace=False)\n",
       "      )\n",
       "      (feed_forward): FeedForward(\n",
       "        (layers): Sequential(\n",
       "          (0): Linear(in_features=768, out_features=3072, bias=True)\n",
       "          (1): GELU()\n",
       "          (2): Linear(in_features=3072, out_features=768, bias=True)\n",
       "        )\n",
       "      )\n",
       "      (norm1): LayerNorm()\n",
       "      (norm2): LayerNorm()\n",
       "      (drop_shortcut): Dropout(p=0.1, inplace=False)\n",
       "    )\n",
       "    (4): TransformerBlock(\n",
       "      (att): MultiHeadAttention(\n",
       "        (W_query): Linear(in_features=768, out_features=768, bias=False)\n",
       "        (W_key): Linear(in_features=768, out_features=768, bias=False)\n",
       "        (W_value): Linear(in_features=768, out_features=768, bias=False)\n",
       "        (out_proj): Linear(in_features=768, out_features=768, bias=True)\n",
       "        (dropout): Dropout(p=0.1, inplace=False)\n",
       "      )\n",
       "      (feed_forward): FeedForward(\n",
       "        (layers): Sequential(\n",
       "          (0): Linear(in_features=768, out_features=3072, bias=True)\n",
       "          (1): GELU()\n",
       "          (2): Linear(in_features=3072, out_features=768, bias=True)\n",
       "        )\n",
       "      )\n",
       "      (norm1): LayerNorm()\n",
       "      (norm2): LayerNorm()\n",
       "      (drop_shortcut): Dropout(p=0.1, inplace=False)\n",
       "    )\n",
       "    (5): TransformerBlock(\n",
       "      (att): MultiHeadAttention(\n",
       "        (W_query): Linear(in_features=768, out_features=768, bias=False)\n",
       "        (W_key): Linear(in_features=768, out_features=768, bias=False)\n",
       "        (W_value): Linear(in_features=768, out_features=768, bias=False)\n",
       "        (out_proj): Linear(in_features=768, out_features=768, bias=True)\n",
       "        (dropout): Dropout(p=0.1, inplace=False)\n",
       "      )\n",
       "      (feed_forward): FeedForward(\n",
       "        (layers): Sequential(\n",
       "          (0): Linear(in_features=768, out_features=3072, bias=True)\n",
       "          (1): GELU()\n",
       "          (2): Linear(in_features=3072, out_features=768, bias=True)\n",
       "        )\n",
       "      )\n",
       "      (norm1): LayerNorm()\n",
       "      (norm2): LayerNorm()\n",
       "      (drop_shortcut): Dropout(p=0.1, inplace=False)\n",
       "    )\n",
       "    (6): TransformerBlock(\n",
       "      (att): MultiHeadAttention(\n",
       "        (W_query): Linear(in_features=768, out_features=768, bias=False)\n",
       "        (W_key): Linear(in_features=768, out_features=768, bias=False)\n",
       "        (W_value): Linear(in_features=768, out_features=768, bias=False)\n",
       "        (out_proj): Linear(in_features=768, out_features=768, bias=True)\n",
       "        (dropout): Dropout(p=0.1, inplace=False)\n",
       "      )\n",
       "      (feed_forward): FeedForward(\n",
       "        (layers): Sequential(\n",
       "          (0): Linear(in_features=768, out_features=3072, bias=True)\n",
       "          (1): GELU()\n",
       "          (2): Linear(in_features=3072, out_features=768, bias=True)\n",
       "        )\n",
       "      )\n",
       "      (norm1): LayerNorm()\n",
       "      (norm2): LayerNorm()\n",
       "      (drop_shortcut): Dropout(p=0.1, inplace=False)\n",
       "    )\n",
       "    (7): TransformerBlock(\n",
       "      (att): MultiHeadAttention(\n",
       "        (W_query): Linear(in_features=768, out_features=768, bias=False)\n",
       "        (W_key): Linear(in_features=768, out_features=768, bias=False)\n",
       "        (W_value): Linear(in_features=768, out_features=768, bias=False)\n",
       "        (out_proj): Linear(in_features=768, out_features=768, bias=True)\n",
       "        (dropout): Dropout(p=0.1, inplace=False)\n",
       "      )\n",
       "      (feed_forward): FeedForward(\n",
       "        (layers): Sequential(\n",
       "          (0): Linear(in_features=768, out_features=3072, bias=True)\n",
       "          (1): GELU()\n",
       "          (2): Linear(in_features=3072, out_features=768, bias=True)\n",
       "        )\n",
       "      )\n",
       "      (norm1): LayerNorm()\n",
       "      (norm2): LayerNorm()\n",
       "      (drop_shortcut): Dropout(p=0.1, inplace=False)\n",
       "    )\n",
       "    (8): TransformerBlock(\n",
       "      (att): MultiHeadAttention(\n",
       "        (W_query): Linear(in_features=768, out_features=768, bias=False)\n",
       "        (W_key): Linear(in_features=768, out_features=768, bias=False)\n",
       "        (W_value): Linear(in_features=768, out_features=768, bias=False)\n",
       "        (out_proj): Linear(in_features=768, out_features=768, bias=True)\n",
       "        (dropout): Dropout(p=0.1, inplace=False)\n",
       "      )\n",
       "      (feed_forward): FeedForward(\n",
       "        (layers): Sequential(\n",
       "          (0): Linear(in_features=768, out_features=3072, bias=True)\n",
       "          (1): GELU()\n",
       "          (2): Linear(in_features=3072, out_features=768, bias=True)\n",
       "        )\n",
       "      )\n",
       "      (norm1): LayerNorm()\n",
       "      (norm2): LayerNorm()\n",
       "      (drop_shortcut): Dropout(p=0.1, inplace=False)\n",
       "    )\n",
       "    (9): TransformerBlock(\n",
       "      (att): MultiHeadAttention(\n",
       "        (W_query): Linear(in_features=768, out_features=768, bias=False)\n",
       "        (W_key): Linear(in_features=768, out_features=768, bias=False)\n",
       "        (W_value): Linear(in_features=768, out_features=768, bias=False)\n",
       "        (out_proj): Linear(in_features=768, out_features=768, bias=True)\n",
       "        (dropout): Dropout(p=0.1, inplace=False)\n",
       "      )\n",
       "      (feed_forward): FeedForward(\n",
       "        (layers): Sequential(\n",
       "          (0): Linear(in_features=768, out_features=3072, bias=True)\n",
       "          (1): GELU()\n",
       "          (2): Linear(in_features=3072, out_features=768, bias=True)\n",
       "        )\n",
       "      )\n",
       "      (norm1): LayerNorm()\n",
       "      (norm2): LayerNorm()\n",
       "      (drop_shortcut): Dropout(p=0.1, inplace=False)\n",
       "    )\n",
       "    (10): TransformerBlock(\n",
       "      (att): MultiHeadAttention(\n",
       "        (W_query): Linear(in_features=768, out_features=768, bias=False)\n",
       "        (W_key): Linear(in_features=768, out_features=768, bias=False)\n",
       "        (W_value): Linear(in_features=768, out_features=768, bias=False)\n",
       "        (out_proj): Linear(in_features=768, out_features=768, bias=True)\n",
       "        (dropout): Dropout(p=0.1, inplace=False)\n",
       "      )\n",
       "      (feed_forward): FeedForward(\n",
       "        (layers): Sequential(\n",
       "          (0): Linear(in_features=768, out_features=3072, bias=True)\n",
       "          (1): GELU()\n",
       "          (2): Linear(in_features=3072, out_features=768, bias=True)\n",
       "        )\n",
       "      )\n",
       "      (norm1): LayerNorm()\n",
       "      (norm2): LayerNorm()\n",
       "      (drop_shortcut): Dropout(p=0.1, inplace=False)\n",
       "    )\n",
       "    (11): TransformerBlock(\n",
       "      (att): MultiHeadAttention(\n",
       "        (W_query): Linear(in_features=768, out_features=768, bias=False)\n",
       "        (W_key): Linear(in_features=768, out_features=768, bias=False)\n",
       "        (W_value): Linear(in_features=768, out_features=768, bias=False)\n",
       "        (out_proj): Linear(in_features=768, out_features=768, bias=True)\n",
       "        (dropout): Dropout(p=0.1, inplace=False)\n",
       "      )\n",
       "      (feed_forward): FeedForward(\n",
       "        (layers): Sequential(\n",
       "          (0): Linear(in_features=768, out_features=3072, bias=True)\n",
       "          (1): GELU()\n",
       "          (2): Linear(in_features=3072, out_features=768, bias=True)\n",
       "        )\n",
       "      )\n",
       "      (norm1): LayerNorm()\n",
       "      (norm2): LayerNorm()\n",
       "      (drop_shortcut): Dropout(p=0.1, inplace=False)\n",
       "    )\n",
       "  )\n",
       "  (final_norm): LayerNorm()\n",
       "  (out_head): Linear(in_features=768, out_features=50257, bias=False)\n",
       ")"
      ]
     },
     "execution_count": 41,
     "metadata": {},
     "output_type": "execute_result"
    }
   ],
   "source": [
    "GPT_CONFIG_124M = { \"vocab_size\": 50257, \"context_length\": 256, \"emb_dim\": 768, \"n_heads\": 12, \"n_layers\": 12, \"drop_rate\": 0.1, \"qkv_bias\": False }  \n",
    "torch.manual_seed(123) \n",
    "model = GPTModel(GPT_CONFIG_124M) \n",
    "model.eval()"
   ]
  },
  {
   "cell_type": "code",
   "execution_count": 42,
   "metadata": {},
   "outputs": [
    {
     "name": "stdout",
     "output_type": "stream",
     "text": [
      "Output text:\n",
      " Every effort moves you renting\n"
     ]
    }
   ],
   "source": [
    "import tiktoken\n",
    "def text_to_token_ids(text,tokenizer):\n",
    "    encoded = tokenizer.encode(text, allowed_special={'<|endoftext|>'})\n",
    "    encoded_tensor = torch.tensor(encoded).unsqueeze(0)\n",
    "    return encoded_tensor\n",
    "\n",
    "def token_ids_to_text(token_ids,tokenizer):\n",
    "    flat = token_ids.squeeze(0)\n",
    "    return tokenizer.decode(flat.tolist())\n",
    "\n",
    "start_context = \"Every effort moves you\" \n",
    "tokenizer = tiktoken.get_encoding(\"gpt2\")\n",
    "\n",
    "token_ids = generate_text_simple( model=model, idx=text_to_token_ids(start_context, tokenizer), max_new_tokens=10, context_size=GPT_CONFIG_124M[\"context_length\"] )\n",
    "print(\"Output text:\\n\", token_ids_to_text(token_ids, tokenizer))"
   ]
  },
  {
   "cell_type": "markdown",
   "metadata": {},
   "source": [
    "# Training of GPT Model"
   ]
  },
  {
   "cell_type": "code",
   "execution_count": 45,
   "metadata": {},
   "outputs": [
    {
     "name": "stdout",
     "output_type": "stream",
     "text": [
      "Characters: 20479\n",
      "Tokens: 5145\n"
     ]
    }
   ],
   "source": [
    "file_path = \"./data/the-verdict.txt\" \n",
    "with open(file_path, \"r\", encoding=\"utf-8\") as file: \n",
    "    text_data = file.read()\n",
    "\n",
    "total_characters = len(text_data)\n",
    "total_tokens = len(tokenizer.encode(text_data))\n",
    "print(\"Characters:\", total_characters) \n",
    "print(\"Tokens:\", total_tokens)"
   ]
  },
  {
   "cell_type": "code",
   "execution_count": 48,
   "metadata": {},
   "outputs": [],
   "source": [
    "train_ratio = 0.90 \n",
    "split_idx = int(train_ratio * len(text_data)) \n",
    "train_data = text_data[:split_idx] \n",
    "val_data = text_data[split_idx:]"
   ]
  },
  {
   "cell_type": "code",
   "execution_count": null,
   "metadata": {},
   "outputs": [],
   "source": [
    "train_loader = create_dataloader_v1( train_data, batch_size=2, max_length=GPT_CONFIG_124M[\"context_length\"], stride=GPT_CONFIG_124M[\"context_length\"], drop_last=True, shuffle=True, num_workers=0 )\n",
    "val_loader = create_dataloader_v1( val_data, batch_size=2, max_length=GPT_CONFIG_124M[\"context_length\"], stride=GPT_CONFIG_124M[\"context_length\"], drop_last=True, shuffle=False, num_workers=0 )"
   ]
  },
  {
   "cell_type": "code",
   "execution_count": 51,
   "metadata": {},
   "outputs": [],
   "source": [
    "def calc_loss_batch(input_batch, target_batch, model, device): \n",
    "    input_batch = input_batch.to(device) \n",
    "    target_batch = target_batch.to(device) \n",
    "    logits = model(input_batch) \n",
    "    loss = torch.nn.functional.cross_entropy(logits.flatten(0, 1), target_batch.flatten())  \n",
    "    return loss"
   ]
  },
  {
   "cell_type": "code",
   "execution_count": 52,
   "metadata": {},
   "outputs": [],
   "source": [
    "def calc_loss_loader(data_loader, model, device, num_batches=None): \n",
    "    total_loss = 0. \n",
    "    if len(data_loader) == 0: \n",
    "        return float(\"nan\") \n",
    "    elif num_batches is None: \n",
    "        num_batches = len(data_loader) \n",
    "    else: \n",
    "        num_batches = min(num_batches, len(data_loader)) \n",
    "        for i, (input_batch, target_batch) in enumerate(data_loader): \n",
    "            if i < num_batches: \n",
    "                loss = calc_loss_batch( input_batch, target_batch, model, device )  \n",
    "                total_loss += loss.item() \n",
    "            else: \n",
    "                break \n",
    "        return total_loss / num_batches"
   ]
  },
  {
   "cell_type": "code",
   "execution_count": 62,
   "metadata": {},
   "outputs": [],
   "source": [
    "def generate_and_print_sample(model, tokenizer, device, start_context): \n",
    "    model.eval() \n",
    "    context_size = model.pos_embd.weight.shape[0] \n",
    "    encoded = text_to_token_ids(start_context, tokenizer).to(device) \n",
    "    with torch.no_grad(): \n",
    "        token_ids = generate_text_simple( model=model, idx=encoded, max_new_tokens=50, context_size=context_size )  \n",
    "        decoded_text = token_ids_to_text(token_ids, tokenizer) \n",
    "        print(decoded_text.replace(\"\\n\", \" \")) \n",
    "        model.train()\n",
    "\n",
    "def train_model_simple(model, train_loader, val_loader, optimizer, device, num_epochs, eval_freq, eval_iter, start_context, tokenizer):\n",
    "    train_losses, val_losses, track_tokens_seen = [], [], []\n",
    "    tokens_seen, global_step = 0, -1\n",
    "\n",
    "    for epoch in range(num_epochs):\n",
    "        model.train()\n",
    "        for input_batch, target_batch in train_loader:\n",
    "            optimizer.zero_grad()\n",
    "            loss = calc_loss_batch( input_batch, target_batch, model, device )\n",
    "            loss.backward() \n",
    "            optimizer.step()\n",
    "            tokens_seen += input_batch.numel()\n",
    "            global_step += 1\n",
    "\n",
    "            if global_step % eval_freq == 0: \n",
    "                train_loss, val_loss = evaluate_model( model, train_loader, val_loader, device, eval_iter) \n",
    "                train_losses.append(train_loss) \n",
    "                val_losses.append(val_loss) \n",
    "                track_tokens_seen.append(tokens_seen) \n",
    "                print(f\"Ep {epoch+1} (Step {global_step:06d}): \" f\"Train loss {train_loss:.3f}, \" f\"Val loss {val_loss:.3f}\" )  \n",
    "                generate_and_print_sample( model, tokenizer, device, start_context )  \n",
    "    return train_losses, val_losses, track_tokens_seen\n",
    "\n",
    "def evaluate_model(model, train_loader, val_loader, device, eval_iter): \n",
    "    model.eval() \n",
    "    with torch.no_grad(): \n",
    "        train_loss = calc_loss_loader( train_loader, model, device, num_batches=eval_iter )  \n",
    "        val_loss = calc_loss_loader( val_loader, model, device, num_batches=eval_iter )  \n",
    "        model.train() \n",
    "    return train_loss, val_loss\n",
    "\n"
   ]
  },
  {
   "cell_type": "code",
   "execution_count": 63,
   "metadata": {},
   "outputs": [
    {
     "name": "stdout",
     "output_type": "stream",
     "text": [
      "Ep 1 (Step 000000): Train loss 9.819, Val loss 9.924\n",
      "Every effort moves you,\n",
      "Ep 1 (Step 000005): Train loss 8.069, Val loss 8.340\n",
      "Every effort moves you,\n",
      "Ep 2 (Step 000010): Train loss 6.623, Val loss 7.051\n",
      "Every effort moves you,\n",
      "Ep 2 (Step 000015): Train loss 6.045, Val loss 6.601\n",
      "Every effort moves you,\n",
      "Ep 3 (Step 000020): Train loss 5.518, Val loss 6.519\n",
      "Every effort moves you,\n",
      "Ep 3 (Step 000025): Train loss 5.361, Val loss 6.382\n",
      "Every effort moves you,\n",
      "Ep 4 (Step 000030): Train loss 4.764, Val loss 6.242\n",
      "Every effort moves you.\n",
      "Ep 4 (Step 000035): Train loss 4.750, Val loss 6.362\n",
      "Every effort moves you of\n",
      "Ep 5 (Step 000040): Train loss 3.893, Val loss 6.149\n",
      "Every effort moves you know\n",
      "Ep 6 (Step 000045): Train loss 3.577, Val loss 6.189\n",
      "Every effort moves you know\n",
      "Ep 6 (Step 000050): Train loss 3.044, Val loss 6.139\n",
      "Every effort moves you know\n",
      "Ep 7 (Step 000055): Train loss 2.915, Val loss 6.132\n",
      "Every effort moves you know\n",
      "Ep 7 (Step 000060): Train loss 2.176, Val loss 6.130\n",
      "Every effort moves you know\n",
      "Ep 8 (Step 000065): Train loss 1.737, Val loss 6.181\n",
      "Every effort moves you know\n",
      "Ep 8 (Step 000070): Train loss 1.442, Val loss 6.211\n",
      "Every effort moves you?\"\n",
      "Ep 9 (Step 000075): Train loss 1.101, Val loss 6.255\n",
      "Every effort moves you?\"\n",
      "Ep 9 (Step 000080): Train loss 0.831, Val loss 6.282\n",
      "Every effort moves you?\"\n",
      "Ep 10 (Step 000085): Train loss 0.592, Val loss 6.379\n",
      "Every effort moves you?\"\n"
     ]
    }
   ],
   "source": [
    "torch.manual_seed(123) \n",
    "model = GPTModel(GPT_CONFIG_124M) \n",
    "device = 'cuda'\n",
    "model.to(device) \n",
    "optimizer = torch.optim.AdamW( model.parameters(), lr=0.0004, weight_decay=0.1 )\n",
    "\n",
    "\n",
    "num_epochs = 10 \n",
    "train_losses, val_losses, tokens_seen = train_model_simple( model, train_loader, val_loader, optimizer, device, num_epochs=num_epochs, eval_freq=5, eval_iter=5, start_context=\"Every effort moves you\", tokenizer=tokenizer )"
   ]
  }
 ],
 "metadata": {
  "kernelspec": {
   "display_name": "venv_V2_master_pytorch",
   "language": "python",
   "name": "python3"
  },
  "language_info": {
   "codemirror_mode": {
    "name": "ipython",
    "version": 3
   },
   "file_extension": ".py",
   "mimetype": "text/x-python",
   "name": "python",
   "nbconvert_exporter": "python",
   "pygments_lexer": "ipython3",
   "version": "3.12.0"
  }
 },
 "nbformat": 4,
 "nbformat_minor": 2
}
