{
 "cells": [
  {
   "cell_type": "markdown",
   "metadata": {},
   "source": [
    "# Download Dataset and Unzip the File"
   ]
  },
  {
   "cell_type": "code",
   "execution_count": 1,
   "metadata": {},
   "outputs": [],
   "source": [
    "import urllib.request\n",
    "import requests\n",
    "import zipfile\n",
    "\n",
    "zip_path = './data/'\n",
    "zip_filename = 'sms+spam+collection.zip'\n",
    "\n",
    "with zipfile.ZipFile(zip_path+zip_filename, 'r') as zip_ref:\n",
    "    zip_ref.extractall(zip_path)"
   ]
  },
  {
   "cell_type": "code",
   "execution_count": 2,
   "metadata": {},
   "outputs": [],
   "source": [
    "import pandas as pd \n",
    "df = pd.read_csv(zip_path+'SMSSpamCollection', sep=\"\\t\", header=None, names=[\"Label\", \"Text\"] )"
   ]
  },
  {
   "cell_type": "code",
   "execution_count": 3,
   "metadata": {},
   "outputs": [
    {
     "data": {
      "text/html": [
       "<div>\n",
       "<style scoped>\n",
       "    .dataframe tbody tr th:only-of-type {\n",
       "        vertical-align: middle;\n",
       "    }\n",
       "\n",
       "    .dataframe tbody tr th {\n",
       "        vertical-align: top;\n",
       "    }\n",
       "\n",
       "    .dataframe thead th {\n",
       "        text-align: right;\n",
       "    }\n",
       "</style>\n",
       "<table border=\"1\" class=\"dataframe\">\n",
       "  <thead>\n",
       "    <tr style=\"text-align: right;\">\n",
       "      <th></th>\n",
       "      <th>Label</th>\n",
       "      <th>Text</th>\n",
       "    </tr>\n",
       "  </thead>\n",
       "  <tbody>\n",
       "    <tr>\n",
       "      <th>0</th>\n",
       "      <td>ham</td>\n",
       "      <td>Go until jurong point, crazy.. Available only ...</td>\n",
       "    </tr>\n",
       "    <tr>\n",
       "      <th>1</th>\n",
       "      <td>ham</td>\n",
       "      <td>Ok lar... Joking wif u oni...</td>\n",
       "    </tr>\n",
       "    <tr>\n",
       "      <th>2</th>\n",
       "      <td>spam</td>\n",
       "      <td>Free entry in 2 a wkly comp to win FA Cup fina...</td>\n",
       "    </tr>\n",
       "    <tr>\n",
       "      <th>3</th>\n",
       "      <td>ham</td>\n",
       "      <td>U dun say so early hor... U c already then say...</td>\n",
       "    </tr>\n",
       "    <tr>\n",
       "      <th>4</th>\n",
       "      <td>ham</td>\n",
       "      <td>Nah I don't think he goes to usf, he lives aro...</td>\n",
       "    </tr>\n",
       "  </tbody>\n",
       "</table>\n",
       "</div>"
      ],
      "text/plain": [
       "  Label                                               Text\n",
       "0   ham  Go until jurong point, crazy.. Available only ...\n",
       "1   ham                      Ok lar... Joking wif u oni...\n",
       "2  spam  Free entry in 2 a wkly comp to win FA Cup fina...\n",
       "3   ham  U dun say so early hor... U c already then say...\n",
       "4   ham  Nah I don't think he goes to usf, he lives aro..."
      ]
     },
     "execution_count": 3,
     "metadata": {},
     "output_type": "execute_result"
    }
   ],
   "source": [
    "df.head()"
   ]
  },
  {
   "cell_type": "code",
   "execution_count": 4,
   "metadata": {},
   "outputs": [
    {
     "data": {
      "text/plain": [
       "(747, 'spam')"
      ]
     },
     "execution_count": 4,
     "metadata": {},
     "output_type": "execute_result"
    }
   ],
   "source": [
    "min_val_count = min(df['Label'].value_counts())\n",
    "min_val_label = list(df['Label'].value_counts().keys())[df['Label'].value_counts().argmin()]\n",
    "\n",
    "min_val_count,min_val_label"
   ]
  },
  {
   "cell_type": "code",
   "execution_count": 5,
   "metadata": {},
   "outputs": [],
   "source": [
    "df1 = df[df['Label'] == min_val_label]\n",
    "df2 = df[df['Label'] != min_val_label]\n",
    "df3 = df2.sample(n = min_val_count) "
   ]
  },
  {
   "cell_type": "code",
   "execution_count": 6,
   "metadata": {},
   "outputs": [
    {
     "data": {
      "text/html": [
       "<div>\n",
       "<style scoped>\n",
       "    .dataframe tbody tr th:only-of-type {\n",
       "        vertical-align: middle;\n",
       "    }\n",
       "\n",
       "    .dataframe tbody tr th {\n",
       "        vertical-align: top;\n",
       "    }\n",
       "\n",
       "    .dataframe thead th {\n",
       "        text-align: right;\n",
       "    }\n",
       "</style>\n",
       "<table border=\"1\" class=\"dataframe\">\n",
       "  <thead>\n",
       "    <tr style=\"text-align: right;\">\n",
       "      <th></th>\n",
       "      <th>Label</th>\n",
       "      <th>Text</th>\n",
       "    </tr>\n",
       "  </thead>\n",
       "  <tbody>\n",
       "    <tr>\n",
       "      <th>2</th>\n",
       "      <td>spam</td>\n",
       "      <td>Free entry in 2 a wkly comp to win FA Cup fina...</td>\n",
       "    </tr>\n",
       "    <tr>\n",
       "      <th>5</th>\n",
       "      <td>spam</td>\n",
       "      <td>FreeMsg Hey there darling it's been 3 week's n...</td>\n",
       "    </tr>\n",
       "    <tr>\n",
       "      <th>8</th>\n",
       "      <td>spam</td>\n",
       "      <td>WINNER!! As a valued network customer you have...</td>\n",
       "    </tr>\n",
       "    <tr>\n",
       "      <th>9</th>\n",
       "      <td>spam</td>\n",
       "      <td>Had your mobile 11 months or more? U R entitle...</td>\n",
       "    </tr>\n",
       "    <tr>\n",
       "      <th>11</th>\n",
       "      <td>spam</td>\n",
       "      <td>SIX chances to win CASH! From 100 to 20,000 po...</td>\n",
       "    </tr>\n",
       "  </tbody>\n",
       "</table>\n",
       "</div>"
      ],
      "text/plain": [
       "   Label                                               Text\n",
       "2   spam  Free entry in 2 a wkly comp to win FA Cup fina...\n",
       "5   spam  FreeMsg Hey there darling it's been 3 week's n...\n",
       "8   spam  WINNER!! As a valued network customer you have...\n",
       "9   spam  Had your mobile 11 months or more? U R entitle...\n",
       "11  spam  SIX chances to win CASH! From 100 to 20,000 po..."
      ]
     },
     "execution_count": 6,
     "metadata": {},
     "output_type": "execute_result"
    }
   ],
   "source": [
    "df_new = pd.concat([df1,df3])\n",
    "df_new.head()"
   ]
  },
  {
   "cell_type": "code",
   "execution_count": 37,
   "metadata": {},
   "outputs": [
    {
     "data": {
      "text/html": [
       "<div>\n",
       "<style scoped>\n",
       "    .dataframe tbody tr th:only-of-type {\n",
       "        vertical-align: middle;\n",
       "    }\n",
       "\n",
       "    .dataframe tbody tr th {\n",
       "        vertical-align: top;\n",
       "    }\n",
       "\n",
       "    .dataframe thead th {\n",
       "        text-align: right;\n",
       "    }\n",
       "</style>\n",
       "<table border=\"1\" class=\"dataframe\">\n",
       "  <thead>\n",
       "    <tr style=\"text-align: right;\">\n",
       "      <th></th>\n",
       "      <th>Label</th>\n",
       "      <th>Text</th>\n",
       "    </tr>\n",
       "  </thead>\n",
       "  <tbody>\n",
       "    <tr>\n",
       "      <th>0</th>\n",
       "      <td>1</td>\n",
       "      <td>Todays Vodafone numbers ending with 4882 are s...</td>\n",
       "    </tr>\n",
       "    <tr>\n",
       "      <th>1</th>\n",
       "      <td>0</td>\n",
       "      <td>Boy; I love u Grl: Hogolo Boy: gold chain kods...</td>\n",
       "    </tr>\n",
       "    <tr>\n",
       "      <th>2</th>\n",
       "      <td>1</td>\n",
       "      <td>Hi 07734396839 IBH Customer Loyalty Offer: The...</td>\n",
       "    </tr>\n",
       "    <tr>\n",
       "      <th>3</th>\n",
       "      <td>0</td>\n",
       "      <td>Wow. I never realized that you were so embaras...</td>\n",
       "    </tr>\n",
       "    <tr>\n",
       "      <th>4</th>\n",
       "      <td>1</td>\n",
       "      <td>We tried to contact you re your reply to our o...</td>\n",
       "    </tr>\n",
       "  </tbody>\n",
       "</table>\n",
       "</div>"
      ],
      "text/plain": [
       "   Label                                               Text\n",
       "0      1  Todays Vodafone numbers ending with 4882 are s...\n",
       "1      0  Boy; I love u Grl: Hogolo Boy: gold chain kods...\n",
       "2      1  Hi 07734396839 IBH Customer Loyalty Offer: The...\n",
       "3      0  Wow. I never realized that you were so embaras...\n",
       "4      1  We tried to contact you re your reply to our o..."
      ]
     },
     "execution_count": 37,
     "metadata": {},
     "output_type": "execute_result"
    }
   ],
   "source": [
    "df_new = df_new.sample(frac=1).reset_index(drop=True)\n",
    "df_new['Label'] = df_new[\"Label\"].map({\"ham\": 0, \"spam\": 1})\n",
    "df_new.head()"
   ]
  },
  {
   "cell_type": "code",
   "execution_count": 38,
   "metadata": {},
   "outputs": [
    {
     "data": {
      "text/plain": [
       "(1045, 149, 300)"
      ]
     },
     "execution_count": 38,
     "metadata": {},
     "output_type": "execute_result"
    }
   ],
   "source": [
    "train_frac = 0.7\n",
    "val_frac = 0.1\n",
    "test_frac = 0.2\n",
    "\n",
    "train_len = int(0.7*len(df_new))\n",
    "val_len = int(0.1*len(df_new))\n",
    "\n",
    "df_train = df_new[0:train_len]\n",
    "df_val = df_new[train_len:train_len+val_len]\n",
    "df_test = df_new[train_len+val_len:]\n",
    "\n",
    "len(df_train), len(df_val), len(df_test)"
   ]
  },
  {
   "cell_type": "markdown",
   "metadata": {},
   "source": [
    "# Creating DataLoader"
   ]
  },
  {
   "cell_type": "code",
   "execution_count": 39,
   "metadata": {},
   "outputs": [],
   "source": [
    "import torch\n",
    "import tiktoken\n",
    "from torch.utils.data import Dataset\n",
    "\n",
    "tokenizer = tiktoken.get_encoding(\"gpt2\")\n",
    "\n",
    "class SpamDataset(Dataset):\n",
    "\n",
    "    def __init__(self,df,tokenizer,max_length = None, pad_token_id = 50256):\n",
    "        super().__init__()\n",
    "\n",
    "        self.data = df\n",
    "        self.encoded_texts = [tokenizer.encode(text) for text in self.data['Text']]\n",
    "\n",
    "        if max_length is None: \n",
    "            self.max_length = self._longest_encoded_length()\n",
    "        else:\n",
    "            self.max_length = max_length\n",
    "            self.encoded_texts = [ encoded_text[:self.max_length] for encoded_text in self.encoded_texts ]\n",
    "        \n",
    "        self.encoded_texts = [ encoded_text + [pad_token_id] * (self.max_length - len(encoded_text)) for encoded_text in self.encoded_texts ]\n",
    "    \n",
    "    def __getitem__(self, index): \n",
    "        encoded = self.encoded_texts[index] \n",
    "        label = self.data.iloc[index][\"Label\"] \n",
    "        return ( \n",
    "            torch.tensor(encoded, dtype=torch.long), \n",
    "            torch.tensor(label, dtype=torch.long) \n",
    "            )\n",
    "    \n",
    "    def __len__(self): \n",
    "        return len(self.data)\n",
    "    \n",
    "    def _longest_encoded_length(self): \n",
    "        max_length = 0 \n",
    "        for encoded_text in self.encoded_texts: \n",
    "            encoded_length = len(encoded_text) \n",
    "            if encoded_length > max_length: \n",
    "                max_length = encoded_length \n",
    "        return max_length"
   ]
  },
  {
   "cell_type": "code",
   "execution_count": 40,
   "metadata": {},
   "outputs": [],
   "source": [
    "train_dataset = SpamDataset(df_train, max_length=None, tokenizer=tokenizer)\n",
    "test_dataset = SpamDataset(df_test, max_length=None, tokenizer=tokenizer)\n",
    "val_dataset = SpamDataset(df_val, max_length=None, tokenizer=tokenizer)"
   ]
  },
  {
   "cell_type": "code",
   "execution_count": 41,
   "metadata": {},
   "outputs": [
    {
     "data": {
      "text/plain": [
       "257"
      ]
     },
     "execution_count": 41,
     "metadata": {},
     "output_type": "execute_result"
    }
   ],
   "source": [
    "train_dataset.max_length"
   ]
  },
  {
   "cell_type": "code",
   "execution_count": 42,
   "metadata": {},
   "outputs": [],
   "source": [
    "from torch.utils.data import DataLoader\n",
    "num_workers = 2\n",
    "batch_size = 8 \n",
    "torch.manual_seed(123)\n",
    "\n",
    "train_loader = DataLoader( dataset=train_dataset, batch_size=batch_size, shuffle=True, num_workers=num_workers, drop_last=True)\n",
    "val_loader = DataLoader( dataset=val_dataset, batch_size=batch_size, num_workers=num_workers, drop_last=False)\n",
    "test_loader = DataLoader( dataset=test_dataset, batch_size=batch_size, num_workers=num_workers, drop_last=False, )"
   ]
  },
  {
   "cell_type": "code",
   "execution_count": 45,
   "metadata": {},
   "outputs": [
    {
     "name": "stdout",
     "output_type": "stream",
     "text": [
      "Input batch dimensions: torch.Size([8, 257])\n",
      "Label batch dimensions torch.Size([8])\n"
     ]
    }
   ],
   "source": [
    "for input_batch, target_batch in train_loader: \n",
    "    pass \n",
    "print(\"Input batch dimensions:\", input_batch.shape) \n",
    "print(\"Label batch dimensions\", target_batch.shape)"
   ]
  },
  {
   "cell_type": "code",
   "execution_count": 86,
   "metadata": {},
   "outputs": [],
   "source": [
    "from transformers import GPT2LMHeadModel, GPT2Tokenizer\n",
    "\n",
    "model_name = \"gpt2\"  # Use 'gpt2-medium', 'gpt2-large', or 'gpt2-xl' for larger models\n",
    "#tokenizer = GPT2Tokenizer.from_pretrained(model_name)\n",
    "model = GPT2LMHeadModel.from_pretrained(model_name)"
   ]
  },
  {
   "cell_type": "code",
   "execution_count": 77,
   "metadata": {},
   "outputs": [],
   "source": [
    "BASE_CONFIG = { \"vocab_size\": 50257, \"context_length\": 1024, \"drop_rate\": 0.0, \"qkv_bias\": True }\n",
    "\n",
    "def text_to_token_ids(text,tokenizer):\n",
    "    encoded = tokenizer.encode(text, allowed_special={'<|endoftext|>'})\n",
    "    encoded_tensor = torch.tensor(encoded).unsqueeze(0)\n",
    "    return encoded_tensor\n",
    "\n",
    "def token_ids_to_text(token_ids,tokenizer):\n",
    "    flat = token_ids.squeeze(0)\n",
    "    return tokenizer.decode(flat.tolist())\n",
    "\n",
    "def generate_text_simple(model, idx, max_new_tokens, context_size): \n",
    "    for _ in range(max_new_tokens): \n",
    "        idx_cond = idx[:, -context_size:] \n",
    "        with torch.no_grad(): \n",
    "            outputs = model(idx_cond) \n",
    "            logits = outputs.logits\n",
    "            logits = logits[:, -1, :] \n",
    "            probas = torch.softmax(logits, dim=-1) \n",
    "            idx_next = torch.argmax(probas, dim=-1, keepdim=True) \n",
    "            idx = torch.cat((idx, idx_next), dim=1)  \n",
    "            return idx"
   ]
  },
  {
   "cell_type": "code",
   "execution_count": 78,
   "metadata": {},
   "outputs": [
    {
     "name": "stdout",
     "output_type": "stream",
     "text": [
      "Every effort moves you forward\n"
     ]
    }
   ],
   "source": [
    "text_1 = \"Every effort moves you\" \n",
    "token_ids = generate_text_simple( model=model, idx=text_to_token_ids(text_1, tokenizer), max_new_tokens=15, context_size=BASE_CONFIG[\"context_length\"] )  \n",
    "print(token_ids_to_text(token_ids, tokenizer))"
   ]
  },
  {
   "cell_type": "code",
   "execution_count": 79,
   "metadata": {},
   "outputs": [
    {
     "name": "stdout",
     "output_type": "stream",
     "text": [
      "Layer: transformer.wte.weight\n",
      "Shape: torch.Size([50257, 768])\n",
      "\n",
      "Layer: transformer.wpe.weight\n",
      "Shape: torch.Size([1024, 768])\n",
      "\n",
      "Layer: transformer.h.0.ln_1.weight\n",
      "Shape: torch.Size([768])\n",
      "\n",
      "Layer: transformer.h.0.ln_1.bias\n",
      "Shape: torch.Size([768])\n",
      "\n",
      "Layer: transformer.h.0.attn.c_attn.weight\n",
      "Shape: torch.Size([768, 2304])\n",
      "\n",
      "Layer: transformer.h.0.attn.c_attn.bias\n",
      "Shape: torch.Size([2304])\n",
      "\n",
      "Layer: transformer.h.0.attn.c_proj.weight\n",
      "Shape: torch.Size([768, 768])\n",
      "\n",
      "Layer: transformer.h.0.attn.c_proj.bias\n",
      "Shape: torch.Size([768])\n",
      "\n",
      "Layer: transformer.h.0.ln_2.weight\n",
      "Shape: torch.Size([768])\n",
      "\n",
      "Layer: transformer.h.0.ln_2.bias\n",
      "Shape: torch.Size([768])\n",
      "\n",
      "Layer: transformer.h.0.mlp.c_fc.weight\n",
      "Shape: torch.Size([768, 3072])\n",
      "\n",
      "Layer: transformer.h.0.mlp.c_fc.bias\n",
      "Shape: torch.Size([3072])\n",
      "\n",
      "Layer: transformer.h.0.mlp.c_proj.weight\n",
      "Shape: torch.Size([3072, 768])\n",
      "\n",
      "Layer: transformer.h.0.mlp.c_proj.bias\n",
      "Shape: torch.Size([768])\n",
      "\n",
      "Layer: transformer.h.1.ln_1.weight\n",
      "Shape: torch.Size([768])\n",
      "\n",
      "Layer: transformer.h.1.ln_1.bias\n",
      "Shape: torch.Size([768])\n",
      "\n",
      "Layer: transformer.h.1.attn.c_attn.weight\n",
      "Shape: torch.Size([768, 2304])\n",
      "\n",
      "Layer: transformer.h.1.attn.c_attn.bias\n",
      "Shape: torch.Size([2304])\n",
      "\n",
      "Layer: transformer.h.1.attn.c_proj.weight\n",
      "Shape: torch.Size([768, 768])\n",
      "\n",
      "Layer: transformer.h.1.attn.c_proj.bias\n",
      "Shape: torch.Size([768])\n",
      "\n",
      "Layer: transformer.h.1.ln_2.weight\n",
      "Shape: torch.Size([768])\n",
      "\n",
      "Layer: transformer.h.1.ln_2.bias\n",
      "Shape: torch.Size([768])\n",
      "\n",
      "Layer: transformer.h.1.mlp.c_fc.weight\n",
      "Shape: torch.Size([768, 3072])\n",
      "\n",
      "Layer: transformer.h.1.mlp.c_fc.bias\n",
      "Shape: torch.Size([3072])\n",
      "\n",
      "Layer: transformer.h.1.mlp.c_proj.weight\n",
      "Shape: torch.Size([3072, 768])\n",
      "\n",
      "Layer: transformer.h.1.mlp.c_proj.bias\n",
      "Shape: torch.Size([768])\n",
      "\n",
      "Layer: transformer.h.2.ln_1.weight\n",
      "Shape: torch.Size([768])\n",
      "\n",
      "Layer: transformer.h.2.ln_1.bias\n",
      "Shape: torch.Size([768])\n",
      "\n",
      "Layer: transformer.h.2.attn.c_attn.weight\n",
      "Shape: torch.Size([768, 2304])\n",
      "\n",
      "Layer: transformer.h.2.attn.c_attn.bias\n",
      "Shape: torch.Size([2304])\n",
      "\n",
      "Layer: transformer.h.2.attn.c_proj.weight\n",
      "Shape: torch.Size([768, 768])\n",
      "\n",
      "Layer: transformer.h.2.attn.c_proj.bias\n",
      "Shape: torch.Size([768])\n",
      "\n",
      "Layer: transformer.h.2.ln_2.weight\n",
      "Shape: torch.Size([768])\n",
      "\n",
      "Layer: transformer.h.2.ln_2.bias\n",
      "Shape: torch.Size([768])\n",
      "\n",
      "Layer: transformer.h.2.mlp.c_fc.weight\n",
      "Shape: torch.Size([768, 3072])\n",
      "\n",
      "Layer: transformer.h.2.mlp.c_fc.bias\n",
      "Shape: torch.Size([3072])\n",
      "\n",
      "Layer: transformer.h.2.mlp.c_proj.weight\n",
      "Shape: torch.Size([3072, 768])\n",
      "\n",
      "Layer: transformer.h.2.mlp.c_proj.bias\n",
      "Shape: torch.Size([768])\n",
      "\n",
      "Layer: transformer.h.3.ln_1.weight\n",
      "Shape: torch.Size([768])\n",
      "\n",
      "Layer: transformer.h.3.ln_1.bias\n",
      "Shape: torch.Size([768])\n",
      "\n",
      "Layer: transformer.h.3.attn.c_attn.weight\n",
      "Shape: torch.Size([768, 2304])\n",
      "\n",
      "Layer: transformer.h.3.attn.c_attn.bias\n",
      "Shape: torch.Size([2304])\n",
      "\n",
      "Layer: transformer.h.3.attn.c_proj.weight\n",
      "Shape: torch.Size([768, 768])\n",
      "\n",
      "Layer: transformer.h.3.attn.c_proj.bias\n",
      "Shape: torch.Size([768])\n",
      "\n",
      "Layer: transformer.h.3.ln_2.weight\n",
      "Shape: torch.Size([768])\n",
      "\n",
      "Layer: transformer.h.3.ln_2.bias\n",
      "Shape: torch.Size([768])\n",
      "\n",
      "Layer: transformer.h.3.mlp.c_fc.weight\n",
      "Shape: torch.Size([768, 3072])\n",
      "\n",
      "Layer: transformer.h.3.mlp.c_fc.bias\n",
      "Shape: torch.Size([3072])\n",
      "\n",
      "Layer: transformer.h.3.mlp.c_proj.weight\n",
      "Shape: torch.Size([3072, 768])\n",
      "\n",
      "Layer: transformer.h.3.mlp.c_proj.bias\n",
      "Shape: torch.Size([768])\n",
      "\n",
      "Layer: transformer.h.4.ln_1.weight\n",
      "Shape: torch.Size([768])\n",
      "\n",
      "Layer: transformer.h.4.ln_1.bias\n",
      "Shape: torch.Size([768])\n",
      "\n",
      "Layer: transformer.h.4.attn.c_attn.weight\n",
      "Shape: torch.Size([768, 2304])\n",
      "\n",
      "Layer: transformer.h.4.attn.c_attn.bias\n",
      "Shape: torch.Size([2304])\n",
      "\n",
      "Layer: transformer.h.4.attn.c_proj.weight\n",
      "Shape: torch.Size([768, 768])\n",
      "\n",
      "Layer: transformer.h.4.attn.c_proj.bias\n",
      "Shape: torch.Size([768])\n",
      "\n",
      "Layer: transformer.h.4.ln_2.weight\n",
      "Shape: torch.Size([768])\n",
      "\n",
      "Layer: transformer.h.4.ln_2.bias\n",
      "Shape: torch.Size([768])\n",
      "\n",
      "Layer: transformer.h.4.mlp.c_fc.weight\n",
      "Shape: torch.Size([768, 3072])\n",
      "\n",
      "Layer: transformer.h.4.mlp.c_fc.bias\n",
      "Shape: torch.Size([3072])\n",
      "\n",
      "Layer: transformer.h.4.mlp.c_proj.weight\n",
      "Shape: torch.Size([3072, 768])\n",
      "\n",
      "Layer: transformer.h.4.mlp.c_proj.bias\n",
      "Shape: torch.Size([768])\n",
      "\n",
      "Layer: transformer.h.5.ln_1.weight\n",
      "Shape: torch.Size([768])\n",
      "\n",
      "Layer: transformer.h.5.ln_1.bias\n",
      "Shape: torch.Size([768])\n",
      "\n",
      "Layer: transformer.h.5.attn.c_attn.weight\n",
      "Shape: torch.Size([768, 2304])\n",
      "\n",
      "Layer: transformer.h.5.attn.c_attn.bias\n",
      "Shape: torch.Size([2304])\n",
      "\n",
      "Layer: transformer.h.5.attn.c_proj.weight\n",
      "Shape: torch.Size([768, 768])\n",
      "\n",
      "Layer: transformer.h.5.attn.c_proj.bias\n",
      "Shape: torch.Size([768])\n",
      "\n",
      "Layer: transformer.h.5.ln_2.weight\n",
      "Shape: torch.Size([768])\n",
      "\n",
      "Layer: transformer.h.5.ln_2.bias\n",
      "Shape: torch.Size([768])\n",
      "\n",
      "Layer: transformer.h.5.mlp.c_fc.weight\n",
      "Shape: torch.Size([768, 3072])\n",
      "\n",
      "Layer: transformer.h.5.mlp.c_fc.bias\n",
      "Shape: torch.Size([3072])\n",
      "\n",
      "Layer: transformer.h.5.mlp.c_proj.weight\n",
      "Shape: torch.Size([3072, 768])\n",
      "\n",
      "Layer: transformer.h.5.mlp.c_proj.bias\n",
      "Shape: torch.Size([768])\n",
      "\n",
      "Layer: transformer.h.6.ln_1.weight\n",
      "Shape: torch.Size([768])\n",
      "\n",
      "Layer: transformer.h.6.ln_1.bias\n",
      "Shape: torch.Size([768])\n",
      "\n",
      "Layer: transformer.h.6.attn.c_attn.weight\n",
      "Shape: torch.Size([768, 2304])\n",
      "\n",
      "Layer: transformer.h.6.attn.c_attn.bias\n",
      "Shape: torch.Size([2304])\n",
      "\n",
      "Layer: transformer.h.6.attn.c_proj.weight\n",
      "Shape: torch.Size([768, 768])\n",
      "\n",
      "Layer: transformer.h.6.attn.c_proj.bias\n",
      "Shape: torch.Size([768])\n",
      "\n",
      "Layer: transformer.h.6.ln_2.weight\n",
      "Shape: torch.Size([768])\n",
      "\n",
      "Layer: transformer.h.6.ln_2.bias\n",
      "Shape: torch.Size([768])\n",
      "\n",
      "Layer: transformer.h.6.mlp.c_fc.weight\n",
      "Shape: torch.Size([768, 3072])\n",
      "\n",
      "Layer: transformer.h.6.mlp.c_fc.bias\n",
      "Shape: torch.Size([3072])\n",
      "\n",
      "Layer: transformer.h.6.mlp.c_proj.weight\n",
      "Shape: torch.Size([3072, 768])\n",
      "\n",
      "Layer: transformer.h.6.mlp.c_proj.bias\n",
      "Shape: torch.Size([768])\n",
      "\n",
      "Layer: transformer.h.7.ln_1.weight\n",
      "Shape: torch.Size([768])\n",
      "\n",
      "Layer: transformer.h.7.ln_1.bias\n",
      "Shape: torch.Size([768])\n",
      "\n",
      "Layer: transformer.h.7.attn.c_attn.weight\n",
      "Shape: torch.Size([768, 2304])\n",
      "\n",
      "Layer: transformer.h.7.attn.c_attn.bias\n",
      "Shape: torch.Size([2304])\n",
      "\n",
      "Layer: transformer.h.7.attn.c_proj.weight\n",
      "Shape: torch.Size([768, 768])\n",
      "\n",
      "Layer: transformer.h.7.attn.c_proj.bias\n",
      "Shape: torch.Size([768])\n",
      "\n",
      "Layer: transformer.h.7.ln_2.weight\n",
      "Shape: torch.Size([768])\n",
      "\n",
      "Layer: transformer.h.7.ln_2.bias\n",
      "Shape: torch.Size([768])\n",
      "\n",
      "Layer: transformer.h.7.mlp.c_fc.weight\n",
      "Shape: torch.Size([768, 3072])\n",
      "\n",
      "Layer: transformer.h.7.mlp.c_fc.bias\n",
      "Shape: torch.Size([3072])\n",
      "\n",
      "Layer: transformer.h.7.mlp.c_proj.weight\n",
      "Shape: torch.Size([3072, 768])\n",
      "\n",
      "Layer: transformer.h.7.mlp.c_proj.bias\n",
      "Shape: torch.Size([768])\n",
      "\n",
      "Layer: transformer.h.8.ln_1.weight\n",
      "Shape: torch.Size([768])\n",
      "\n",
      "Layer: transformer.h.8.ln_1.bias\n",
      "Shape: torch.Size([768])\n",
      "\n",
      "Layer: transformer.h.8.attn.c_attn.weight\n",
      "Shape: torch.Size([768, 2304])\n",
      "\n",
      "Layer: transformer.h.8.attn.c_attn.bias\n",
      "Shape: torch.Size([2304])\n",
      "\n",
      "Layer: transformer.h.8.attn.c_proj.weight\n",
      "Shape: torch.Size([768, 768])\n",
      "\n",
      "Layer: transformer.h.8.attn.c_proj.bias\n",
      "Shape: torch.Size([768])\n",
      "\n",
      "Layer: transformer.h.8.ln_2.weight\n",
      "Shape: torch.Size([768])\n",
      "\n",
      "Layer: transformer.h.8.ln_2.bias\n",
      "Shape: torch.Size([768])\n",
      "\n",
      "Layer: transformer.h.8.mlp.c_fc.weight\n",
      "Shape: torch.Size([768, 3072])\n",
      "\n",
      "Layer: transformer.h.8.mlp.c_fc.bias\n",
      "Shape: torch.Size([3072])\n",
      "\n",
      "Layer: transformer.h.8.mlp.c_proj.weight\n",
      "Shape: torch.Size([3072, 768])\n",
      "\n",
      "Layer: transformer.h.8.mlp.c_proj.bias\n",
      "Shape: torch.Size([768])\n",
      "\n",
      "Layer: transformer.h.9.ln_1.weight\n",
      "Shape: torch.Size([768])\n",
      "\n",
      "Layer: transformer.h.9.ln_1.bias\n",
      "Shape: torch.Size([768])\n",
      "\n",
      "Layer: transformer.h.9.attn.c_attn.weight\n",
      "Shape: torch.Size([768, 2304])\n",
      "\n",
      "Layer: transformer.h.9.attn.c_attn.bias\n",
      "Shape: torch.Size([2304])\n",
      "\n",
      "Layer: transformer.h.9.attn.c_proj.weight\n",
      "Shape: torch.Size([768, 768])\n",
      "\n",
      "Layer: transformer.h.9.attn.c_proj.bias\n",
      "Shape: torch.Size([768])\n",
      "\n",
      "Layer: transformer.h.9.ln_2.weight\n",
      "Shape: torch.Size([768])\n",
      "\n",
      "Layer: transformer.h.9.ln_2.bias\n",
      "Shape: torch.Size([768])\n",
      "\n",
      "Layer: transformer.h.9.mlp.c_fc.weight\n",
      "Shape: torch.Size([768, 3072])\n",
      "\n",
      "Layer: transformer.h.9.mlp.c_fc.bias\n",
      "Shape: torch.Size([3072])\n",
      "\n",
      "Layer: transformer.h.9.mlp.c_proj.weight\n",
      "Shape: torch.Size([3072, 768])\n",
      "\n",
      "Layer: transformer.h.9.mlp.c_proj.bias\n",
      "Shape: torch.Size([768])\n",
      "\n",
      "Layer: transformer.h.10.ln_1.weight\n",
      "Shape: torch.Size([768])\n",
      "\n",
      "Layer: transformer.h.10.ln_1.bias\n",
      "Shape: torch.Size([768])\n",
      "\n",
      "Layer: transformer.h.10.attn.c_attn.weight\n",
      "Shape: torch.Size([768, 2304])\n",
      "\n",
      "Layer: transformer.h.10.attn.c_attn.bias\n",
      "Shape: torch.Size([2304])\n",
      "\n",
      "Layer: transformer.h.10.attn.c_proj.weight\n",
      "Shape: torch.Size([768, 768])\n",
      "\n",
      "Layer: transformer.h.10.attn.c_proj.bias\n",
      "Shape: torch.Size([768])\n",
      "\n",
      "Layer: transformer.h.10.ln_2.weight\n",
      "Shape: torch.Size([768])\n",
      "\n",
      "Layer: transformer.h.10.ln_2.bias\n",
      "Shape: torch.Size([768])\n",
      "\n",
      "Layer: transformer.h.10.mlp.c_fc.weight\n",
      "Shape: torch.Size([768, 3072])\n",
      "\n",
      "Layer: transformer.h.10.mlp.c_fc.bias\n",
      "Shape: torch.Size([3072])\n",
      "\n",
      "Layer: transformer.h.10.mlp.c_proj.weight\n",
      "Shape: torch.Size([3072, 768])\n",
      "\n",
      "Layer: transformer.h.10.mlp.c_proj.bias\n",
      "Shape: torch.Size([768])\n",
      "\n",
      "Layer: transformer.h.11.ln_1.weight\n",
      "Shape: torch.Size([768])\n",
      "\n",
      "Layer: transformer.h.11.ln_1.bias\n",
      "Shape: torch.Size([768])\n",
      "\n",
      "Layer: transformer.h.11.attn.c_attn.weight\n",
      "Shape: torch.Size([768, 2304])\n",
      "\n",
      "Layer: transformer.h.11.attn.c_attn.bias\n",
      "Shape: torch.Size([2304])\n",
      "\n",
      "Layer: transformer.h.11.attn.c_proj.weight\n",
      "Shape: torch.Size([768, 768])\n",
      "\n",
      "Layer: transformer.h.11.attn.c_proj.bias\n",
      "Shape: torch.Size([768])\n",
      "\n",
      "Layer: transformer.h.11.ln_2.weight\n",
      "Shape: torch.Size([768])\n",
      "\n",
      "Layer: transformer.h.11.ln_2.bias\n",
      "Shape: torch.Size([768])\n",
      "\n",
      "Layer: transformer.h.11.mlp.c_fc.weight\n",
      "Shape: torch.Size([768, 3072])\n",
      "\n",
      "Layer: transformer.h.11.mlp.c_fc.bias\n",
      "Shape: torch.Size([3072])\n",
      "\n",
      "Layer: transformer.h.11.mlp.c_proj.weight\n",
      "Shape: torch.Size([3072, 768])\n",
      "\n",
      "Layer: transformer.h.11.mlp.c_proj.bias\n",
      "Shape: torch.Size([768])\n",
      "\n",
      "Layer: transformer.ln_f.weight\n",
      "Shape: torch.Size([768])\n",
      "\n",
      "Layer: transformer.ln_f.bias\n",
      "Shape: torch.Size([768])\n",
      "\n"
     ]
    }
   ],
   "source": [
    "for name, param in model.named_parameters():\n",
    "    print(f\"Layer: {name}\")\n",
    "    print(f\"Shape: {param.shape}\")\n",
    "    print()\n"
   ]
  },
  {
   "cell_type": "code",
   "execution_count": 80,
   "metadata": {},
   "outputs": [
    {
     "name": "stdout",
     "output_type": "stream",
     "text": [
      "Total parameters: 124,439,808\n",
      "Trainable parameters: 124,439,808\n"
     ]
    }
   ],
   "source": [
    "# Count the total number of parameters\n",
    "total_params = sum(p.numel() for p in model.parameters())\n",
    "trainable_params = sum(p.numel() for p in model.parameters() if p.requires_grad)\n",
    "\n",
    "print(f\"Total parameters: {total_params:,}\")\n",
    "print(f\"Trainable parameters: {trainable_params:,}\")"
   ]
  },
  {
   "cell_type": "markdown",
   "metadata": {},
   "source": [
    "# Having the Classification Head"
   ]
  },
  {
   "cell_type": "code",
   "execution_count": 81,
   "metadata": {},
   "outputs": [],
   "source": [
    "for param in model.parameters(): \n",
    "    param.requires_grad = False"
   ]
  },
  {
   "cell_type": "code",
   "execution_count": 87,
   "metadata": {},
   "outputs": [
    {
     "name": "stdout",
     "output_type": "stream",
     "text": [
      "GPT2LMHeadModel(\n",
      "  (transformer): GPT2Model(\n",
      "    (wte): Embedding(50257, 768)\n",
      "    (wpe): Embedding(1024, 768)\n",
      "    (drop): Dropout(p=0.1, inplace=False)\n",
      "    (h): ModuleList(\n",
      "      (0-11): 12 x GPT2Block(\n",
      "        (ln_1): LayerNorm((768,), eps=1e-05, elementwise_affine=True)\n",
      "        (attn): GPT2SdpaAttention(\n",
      "          (c_attn): Conv1D(nf=2304, nx=768)\n",
      "          (c_proj): Conv1D(nf=768, nx=768)\n",
      "          (attn_dropout): Dropout(p=0.1, inplace=False)\n",
      "          (resid_dropout): Dropout(p=0.1, inplace=False)\n",
      "        )\n",
      "        (ln_2): LayerNorm((768,), eps=1e-05, elementwise_affine=True)\n",
      "        (mlp): GPT2MLP(\n",
      "          (c_fc): Conv1D(nf=3072, nx=768)\n",
      "          (c_proj): Conv1D(nf=768, nx=3072)\n",
      "          (act): NewGELUActivation()\n",
      "          (dropout): Dropout(p=0.1, inplace=False)\n",
      "        )\n",
      "      )\n",
      "    )\n",
      "    (ln_f): LayerNorm((768,), eps=1e-05, elementwise_affine=True)\n",
      "  )\n",
      "  (lm_head): Linear(in_features=768, out_features=50257, bias=False)\n",
      ")\n"
     ]
    }
   ],
   "source": [
    "print(model)"
   ]
  },
  {
   "cell_type": "code",
   "execution_count": 88,
   "metadata": {},
   "outputs": [],
   "source": [
    "torch.manual_seed(123) \n",
    "num_classes = 2 \n",
    "BASE_CONFIG[\"emb_dim\"] = 768\n",
    "model.lm_head = torch.nn.Linear( in_features=BASE_CONFIG[\"emb_dim\"], out_features=num_classes )"
   ]
  },
  {
   "cell_type": "code",
   "execution_count": 89,
   "metadata": {},
   "outputs": [
    {
     "name": "stdout",
     "output_type": "stream",
     "text": [
      "GPT2LMHeadModel(\n",
      "  (transformer): GPT2Model(\n",
      "    (wte): Embedding(50257, 768)\n",
      "    (wpe): Embedding(1024, 768)\n",
      "    (drop): Dropout(p=0.1, inplace=False)\n",
      "    (h): ModuleList(\n",
      "      (0-11): 12 x GPT2Block(\n",
      "        (ln_1): LayerNorm((768,), eps=1e-05, elementwise_affine=True)\n",
      "        (attn): GPT2SdpaAttention(\n",
      "          (c_attn): Conv1D(nf=2304, nx=768)\n",
      "          (c_proj): Conv1D(nf=768, nx=768)\n",
      "          (attn_dropout): Dropout(p=0.1, inplace=False)\n",
      "          (resid_dropout): Dropout(p=0.1, inplace=False)\n",
      "        )\n",
      "        (ln_2): LayerNorm((768,), eps=1e-05, elementwise_affine=True)\n",
      "        (mlp): GPT2MLP(\n",
      "          (c_fc): Conv1D(nf=3072, nx=768)\n",
      "          (c_proj): Conv1D(nf=768, nx=3072)\n",
      "          (act): NewGELUActivation()\n",
      "          (dropout): Dropout(p=0.1, inplace=False)\n",
      "        )\n",
      "      )\n",
      "    )\n",
      "    (ln_f): LayerNorm((768,), eps=1e-05, elementwise_affine=True)\n",
      "  )\n",
      "  (lm_head): Linear(in_features=768, out_features=2, bias=True)\n",
      ")\n"
     ]
    }
   ],
   "source": [
    "print(model)"
   ]
  },
  {
   "cell_type": "code",
   "execution_count": 91,
   "metadata": {},
   "outputs": [],
   "source": [
    "# Make the last transformer block as trainable\n",
    "for param in model.transformer.h[-1].parameters(): \n",
    "    param.requires_grad = True \n",
    "for param in model.transformer.ln_f.parameters(): \n",
    "    param.requires_grad = True"
   ]
  },
  {
   "cell_type": "code",
   "execution_count": 92,
   "metadata": {},
   "outputs": [
    {
     "name": "stdout",
     "output_type": "stream",
     "text": [
      "Inputs: tensor([[5211,  345,  423,  640]])\n",
      "Inputs dimensions: torch.Size([1, 4])\n"
     ]
    }
   ],
   "source": [
    "inputs = tokenizer.encode(\"Do you have time\") \n",
    "inputs = torch.tensor(inputs).unsqueeze(0) \n",
    "print(\"Inputs:\", inputs) \n",
    "print(\"Inputs dimensions:\", inputs.shape)"
   ]
  },
  {
   "cell_type": "code",
   "execution_count": 94,
   "metadata": {},
   "outputs": [
    {
     "name": "stdout",
     "output_type": "stream",
     "text": [
      "Outputs:\n",
      " tensor([[[-1.5854,  0.9904],\n",
      "         [-3.7235,  7.4548],\n",
      "         [-2.2661,  6.6049],\n",
      "         [-3.5983,  3.9902]]])\n",
      "Outputs dimensions: torch.Size([1, 4, 2])\n"
     ]
    }
   ],
   "source": [
    "with torch.no_grad(): \n",
    "    outputs = model(inputs) \n",
    "    print(\"Outputs:\\n\", outputs.logits) \n",
    "    print(\"Outputs dimensions:\", outputs.logits.shape)"
   ]
  },
  {
   "cell_type": "code",
   "execution_count": 99,
   "metadata": {},
   "outputs": [],
   "source": [
    "def calc_accuracy_loader(data_loader, model, device, num_batches=None): \n",
    "    model.eval() \n",
    "    correct_predictions, num_examples = 0, 0  \n",
    "    if num_batches is None: \n",
    "        num_batches = len(data_loader) \n",
    "    else: \n",
    "        num_batches = min(num_batches, len(data_loader)) \n",
    "        for i, (input_batch, target_batch) in enumerate(data_loader): \n",
    "            if i < num_batches: \n",
    "                input_batch = input_batch.to(device) \n",
    "                target_batch = target_batch.to(device)  \n",
    "                with torch.no_grad(): \n",
    "                    outputs = model(input_batch).logits[:, -1, :]\n",
    "                    predicted_labels = torch.argmax(outputs, dim=-1)  \n",
    "                    num_examples += predicted_labels.shape[0] \n",
    "                    correct_predictions += ((predicted_labels == target_batch).sum().item() )\n",
    "            else:\n",
    "                break\n",
    "        \n",
    "    return correct_predictions / num_examples"
   ]
  },
  {
   "cell_type": "code",
   "execution_count": 100,
   "metadata": {},
   "outputs": [],
   "source": [
    "device = torch.device(\"cuda\" if torch.cuda.is_available() else \"cpu\") \n",
    "model.to(device)  \n",
    "torch.manual_seed(123) \n",
    "train_accuracy = calc_accuracy_loader( train_loader, model, device, num_batches=10 )  \n",
    "val_accuracy = calc_accuracy_loader( val_loader, model, device, num_batches=10 )  \n",
    "test_accuracy = calc_accuracy_loader( test_loader, model, device, num_batches=10 )"
   ]
  },
  {
   "cell_type": "code",
   "execution_count": 101,
   "metadata": {},
   "outputs": [
    {
     "name": "stdout",
     "output_type": "stream",
     "text": [
      "Training accuracy: 47.50%\n",
      "Validation accuracy: 43.75%\n",
      "Test accuracy: 48.75%\n"
     ]
    }
   ],
   "source": [
    "print(f\"Training accuracy: {train_accuracy*100:.2f}%\") \n",
    "print(f\"Validation accuracy: {val_accuracy*100:.2f}%\") \n",
    "print(f\"Test accuracy: {test_accuracy*100:.2f}%\")"
   ]
  },
  {
   "cell_type": "code",
   "execution_count": 102,
   "metadata": {},
   "outputs": [],
   "source": [
    "# Loss Function\n",
    "\n",
    "def calc_loss_batch(input_batch, target_batch, model, device): \n",
    "    input_batch = input_batch.to(device) \n",
    "    target_batch = target_batch.to(device) \n",
    "    logits = model(input_batch).logits[:, -1, :]\n",
    "    loss = torch.nn.functional.cross_entropy(logits, target_batch) \n",
    "    return loss\n",
    "\n",
    "def calc_loss_loader(data_loader, model, device, num_batches=None): \n",
    "    total_loss = 0. \n",
    "    if len(data_loader) == 0: \n",
    "        return float(\"nan\") \n",
    "    elif num_batches is None: \n",
    "        num_batches = len(data_loader) \n",
    "    else: \n",
    "        num_batches = min(num_batches, len(data_loader)) \n",
    "        for i, (input_batch, target_batch) in enumerate(data_loader): \n",
    "            if i < num_batches: \n",
    "                loss = calc_loss_batch( input_batch, target_batch, model, device )  \n",
    "                total_loss += loss.item() \n",
    "            else: \n",
    "                break \n",
    "    return total_loss / num_batches"
   ]
  },
  {
   "cell_type": "code",
   "execution_count": 103,
   "metadata": {},
   "outputs": [
    {
     "name": "stdout",
     "output_type": "stream",
     "text": [
      "Training loss: 2.559\n",
      "Validation loss: 3.077\n",
      "Test loss: 3.088\n"
     ]
    }
   ],
   "source": [
    "with torch.no_grad(): \n",
    "    train_loss = calc_loss_loader( train_loader, model, device, num_batches=5 )  \n",
    "    val_loss = calc_loss_loader(val_loader, model, device, num_batches=5) \n",
    "    test_loss = calc_loss_loader(test_loader, model, device, num_batches=5) \n",
    "    print(f\"Training loss: {train_loss:.3f}\") \n",
    "    print(f\"Validation loss: {val_loss:.3f}\") \n",
    "    print(f\"Test loss: {test_loss:.3f}\")"
   ]
  },
  {
   "cell_type": "code",
   "execution_count": 107,
   "metadata": {},
   "outputs": [],
   "source": [
    "\n",
    "def evaluate_model(model, train_loader, val_loader, device, eval_iter): \n",
    "    model.eval() \n",
    "    with torch.no_grad():\n",
    "        train_loss = calc_loss_loader( train_loader, model, device, num_batches=eval_iter )  \n",
    "        val_loss = calc_loss_loader( val_loader, model, device, num_batches=eval_iter )  \n",
    "        model.train() \n",
    "        return train_loss, val_loss\n",
    "\n",
    "def train_classifier_simple( model, train_loader, val_loader, optimizer, device, num_epochs, eval_freq, eval_iter): \n",
    "    train_losses, val_losses, train_accs, val_accs = [], [], [], [] \n",
    "    examples_seen, global_step = 0, -1  \n",
    "    for epoch in range(num_epochs): \n",
    "        model.train()  \n",
    "        for input_batch, target_batch in train_loader: \n",
    "            optimizer.zero_grad() \n",
    "            loss = calc_loss_batch( input_batch, target_batch, model, device )  \n",
    "            loss.backward() \n",
    "            optimizer.step() \n",
    "            examples_seen += input_batch.shape[0] \n",
    "            global_step += 1  \n",
    "            if global_step % eval_freq == 0: \n",
    "                train_loss, val_loss = evaluate_model( model, train_loader, val_loader, device, eval_iter) \n",
    "                train_losses.append(train_loss) \n",
    "                val_losses.append(val_loss) \n",
    "                print(f\"Ep {epoch+1} (Step {global_step:06d}): \" f\"Train loss {train_loss:.3f}, \" f\"Val loss {val_loss:.3f}\" )  \n",
    "                train_accuracy = calc_accuracy_loader( train_loader, model, device, num_batches=eval_iter )  \n",
    "                val_accuracy = calc_accuracy_loader( val_loader, model, device, num_batches=eval_iter )  \n",
    "                print(f\"Training accuracy: {train_accuracy*100:.2f}% | \", end=\"\") \n",
    "                print(f\"Validation accuracy: {val_accuracy*100:.2f}%\") \n",
    "                train_accs.append(train_accuracy) \n",
    "                val_accs.append(val_accuracy)  \n",
    "    return train_losses, val_losses, train_accs, val_accs, examples_seen"
   ]
  },
  {
   "cell_type": "code",
   "execution_count": 109,
   "metadata": {},
   "outputs": [
    {
     "name": "stdout",
     "output_type": "stream",
     "text": [
      "Ep 1 (Step 000000): Train loss 3.366, Val loss 2.569\n",
      "Training accuracy: 50.00% | Validation accuracy: 60.00%\n",
      "Ep 1 (Step 000050): Train loss 0.577, Val loss 0.482\n",
      "Training accuracy: 92.50% | Validation accuracy: 82.50%\n",
      "Ep 1 (Step 000100): Train loss 0.040, Val loss 0.255\n",
      "Training accuracy: 92.50% | Validation accuracy: 90.00%\n",
      "Ep 2 (Step 000150): Train loss 0.236, Val loss 0.183\n",
      "Training accuracy: 92.50% | Validation accuracy: 90.00%\n",
      "Ep 2 (Step 000200): Train loss 0.106, Val loss 0.192\n",
      "Training accuracy: 100.00% | Validation accuracy: 95.00%\n",
      "Ep 2 (Step 000250): Train loss 0.096, Val loss 0.169\n",
      "Training accuracy: 97.50% | Validation accuracy: 92.50%\n",
      "Ep 3 (Step 000300): Train loss 0.071, Val loss 0.183\n",
      "Training accuracy: 97.50% | Validation accuracy: 95.00%\n",
      "Ep 3 (Step 000350): Train loss 0.016, Val loss 0.059\n",
      "Training accuracy: 97.50% | Validation accuracy: 97.50%\n",
      "Ep 4 (Step 000400): Train loss 0.028, Val loss 0.113\n",
      "Training accuracy: 100.00% | Validation accuracy: 97.50%\n",
      "Ep 4 (Step 000450): Train loss 0.021, Val loss 0.091\n",
      "Training accuracy: 100.00% | Validation accuracy: 97.50%\n",
      "Ep 4 (Step 000500): Train loss 0.016, Val loss 0.154\n",
      "Training accuracy: 100.00% | Validation accuracy: 95.00%\n",
      "Ep 5 (Step 000550): Train loss 0.054, Val loss 0.156\n",
      "Training accuracy: 100.00% | Validation accuracy: 95.00%\n",
      "Ep 5 (Step 000600): Train loss 0.002, Val loss 0.199\n",
      "Training accuracy: 100.00% | Validation accuracy: 97.50%\n",
      "Training completed in 3.05 minutes.\n"
     ]
    }
   ],
   "source": [
    "import time  \n",
    "start_time = time.time() \n",
    "torch.manual_seed(123) \n",
    "optimizer = torch.optim.AdamW(model.parameters(), lr=5e-5, weight_decay=0.1) \n",
    "num_epochs = 5  \n",
    "train_losses, val_losses, train_accs, val_accs, examples_seen = train_classifier_simple( model, train_loader, val_loader, optimizer, device, num_epochs=num_epochs, eval_freq=50, eval_iter=5 )  \n",
    "end_time = time.time() \n",
    "execution_time_minutes = (end_time - start_time) / 60 \n",
    "print(f\"Training completed in {execution_time_minutes:.2f} minutes.\")"
   ]
  },
  {
   "cell_type": "code",
   "execution_count": 112,
   "metadata": {},
   "outputs": [
    {
     "data": {
      "image/png": "[encoded data removed]",
      "text/plain": [
       "<Figure size 500x300 with 2 Axes>"
      ]
     },
     "metadata": {},
     "output_type": "display_data"
    }
   ],
   "source": [
    "import matplotlib.pyplot as plt  \n",
    "def plot_values( epochs_seen, examples_seen, train_values, val_values, label=\"loss\"): \n",
    "    fig, ax1 = plt.subplots(figsize=(5, 3))  \n",
    "    ax1.plot(epochs_seen, train_values, label=f\"Training {label}\") \n",
    "    ax1.plot( epochs_seen, val_values, linestyle=\"-.\", label=f\"Validation {label}\" )  \n",
    "    ax1.set_xlabel(\"Epochs\") \n",
    "    ax1.set_ylabel(label.capitalize()) \n",
    "    ax1.legend()  \n",
    "    ax2 = ax1.twiny() \n",
    "    ax2.plot(examples_seen, train_values, alpha=0) \n",
    "    ax2.set_xlabel(\"Examples seen\")  \n",
    "    fig.tight_layout() \n",
    "    plt.savefig(f\"{label}-plot.pdf\") \n",
    "    plt.show()  \n",
    "\n",
    "epochs_tensor = torch.linspace(0, num_epochs, len(train_losses)) \n",
    "examples_seen_tensor = torch.linspace(0, examples_seen, len(train_losses))  \n",
    "plot_values(epochs_tensor, examples_seen_tensor, train_losses, val_losses)"
   ]
  },
  {
   "cell_type": "code",
   "execution_count": 113,
   "metadata": {},
   "outputs": [
    {
     "data": {
      "image/png": "[encoded data removed]",
      "text/plain": [
       "<Figure size 500x300 with 2 Axes>"
      ]
     },
     "metadata": {},
     "output_type": "display_data"
    }
   ],
   "source": [
    "epochs_tensor = torch.linspace(0, num_epochs, len(train_accs)) \n",
    "examples_seen_tensor = torch.linspace(0, examples_seen, len(train_accs))  \n",
    "plot_values( epochs_tensor, examples_seen_tensor, train_accs, val_accs, label=\"accuracy\" )"
   ]
  }
 ],
 "metadata": {
  "kernelspec": {
   "display_name": "venv_V2_master_pytorch",
   "language": "python",
   "name": "python3"
  },
  "language_info": {
   "codemirror_mode": {
    "name": "ipython",
    "version": 3
   },
   "file_extension": ".py",
   "mimetype": "text/x-python",
   "name": "python",
   "nbconvert_exporter": "python",
   "pygments_lexer": "ipython3",
   "version": "3.12.0"
  }
 },
 "nbformat": 4,
 "nbformat_minor": 2
}
